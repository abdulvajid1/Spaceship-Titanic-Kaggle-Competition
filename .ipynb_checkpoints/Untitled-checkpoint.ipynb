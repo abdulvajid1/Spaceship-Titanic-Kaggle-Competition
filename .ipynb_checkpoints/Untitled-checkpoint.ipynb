{
 "cells": [
  {
   "cell_type": "code",
   "execution_count": 1,
   "id": "e555ec1f",
   "metadata": {},
   "outputs": [],
   "source": [
    "import pandas as pd \n",
    "import numpy as np\n",
    "import matplotlib.pyplot as plt\n",
    "import seaborn as sns"
   ]
  },
  {
   "cell_type": "code",
   "execution_count": 2,
   "id": "f9e90c58",
   "metadata": {},
   "outputs": [],
   "source": [
    "train = pd.read_csv('train.csv')\n",
    "test = pd.read_csv('test.csv')"
   ]
  },
  {
   "cell_type": "code",
   "execution_count": 3,
   "id": "62856227",
   "metadata": {},
   "outputs": [
    {
     "data": {
      "text/html": [
       "<div>\n",
       "<style scoped>\n",
       "    .dataframe tbody tr th:only-of-type {\n",
       "        vertical-align: middle;\n",
       "    }\n",
       "\n",
       "    .dataframe tbody tr th {\n",
       "        vertical-align: top;\n",
       "    }\n",
       "\n",
       "    .dataframe thead th {\n",
       "        text-align: right;\n",
       "    }\n",
       "</style>\n",
       "<table border=\"1\" class=\"dataframe\">\n",
       "  <thead>\n",
       "    <tr style=\"text-align: right;\">\n",
       "      <th></th>\n",
       "      <th>PassengerId</th>\n",
       "      <th>HomePlanet</th>\n",
       "      <th>CryoSleep</th>\n",
       "      <th>Cabin</th>\n",
       "      <th>Destination</th>\n",
       "      <th>Age</th>\n",
       "      <th>VIP</th>\n",
       "      <th>RoomService</th>\n",
       "      <th>FoodCourt</th>\n",
       "      <th>ShoppingMall</th>\n",
       "      <th>Spa</th>\n",
       "      <th>VRDeck</th>\n",
       "      <th>Name</th>\n",
       "      <th>Transported</th>\n",
       "    </tr>\n",
       "  </thead>\n",
       "  <tbody>\n",
       "    <tr>\n",
       "      <th>0</th>\n",
       "      <td>0001_01</td>\n",
       "      <td>Europa</td>\n",
       "      <td>False</td>\n",
       "      <td>B/0/P</td>\n",
       "      <td>TRAPPIST-1e</td>\n",
       "      <td>39.0</td>\n",
       "      <td>False</td>\n",
       "      <td>0.0</td>\n",
       "      <td>0.0</td>\n",
       "      <td>0.0</td>\n",
       "      <td>0.0</td>\n",
       "      <td>0.0</td>\n",
       "      <td>Maham Ofracculy</td>\n",
       "      <td>False</td>\n",
       "    </tr>\n",
       "    <tr>\n",
       "      <th>1</th>\n",
       "      <td>0002_01</td>\n",
       "      <td>Earth</td>\n",
       "      <td>False</td>\n",
       "      <td>F/0/S</td>\n",
       "      <td>TRAPPIST-1e</td>\n",
       "      <td>24.0</td>\n",
       "      <td>False</td>\n",
       "      <td>109.0</td>\n",
       "      <td>9.0</td>\n",
       "      <td>25.0</td>\n",
       "      <td>549.0</td>\n",
       "      <td>44.0</td>\n",
       "      <td>Juanna Vines</td>\n",
       "      <td>True</td>\n",
       "    </tr>\n",
       "    <tr>\n",
       "      <th>2</th>\n",
       "      <td>0003_01</td>\n",
       "      <td>Europa</td>\n",
       "      <td>False</td>\n",
       "      <td>A/0/S</td>\n",
       "      <td>TRAPPIST-1e</td>\n",
       "      <td>58.0</td>\n",
       "      <td>True</td>\n",
       "      <td>43.0</td>\n",
       "      <td>3576.0</td>\n",
       "      <td>0.0</td>\n",
       "      <td>6715.0</td>\n",
       "      <td>49.0</td>\n",
       "      <td>Altark Susent</td>\n",
       "      <td>False</td>\n",
       "    </tr>\n",
       "    <tr>\n",
       "      <th>3</th>\n",
       "      <td>0003_02</td>\n",
       "      <td>Europa</td>\n",
       "      <td>False</td>\n",
       "      <td>A/0/S</td>\n",
       "      <td>TRAPPIST-1e</td>\n",
       "      <td>33.0</td>\n",
       "      <td>False</td>\n",
       "      <td>0.0</td>\n",
       "      <td>1283.0</td>\n",
       "      <td>371.0</td>\n",
       "      <td>3329.0</td>\n",
       "      <td>193.0</td>\n",
       "      <td>Solam Susent</td>\n",
       "      <td>False</td>\n",
       "    </tr>\n",
       "    <tr>\n",
       "      <th>4</th>\n",
       "      <td>0004_01</td>\n",
       "      <td>Earth</td>\n",
       "      <td>False</td>\n",
       "      <td>F/1/S</td>\n",
       "      <td>TRAPPIST-1e</td>\n",
       "      <td>16.0</td>\n",
       "      <td>False</td>\n",
       "      <td>303.0</td>\n",
       "      <td>70.0</td>\n",
       "      <td>151.0</td>\n",
       "      <td>565.0</td>\n",
       "      <td>2.0</td>\n",
       "      <td>Willy Santantines</td>\n",
       "      <td>True</td>\n",
       "    </tr>\n",
       "    <tr>\n",
       "      <th>...</th>\n",
       "      <td>...</td>\n",
       "      <td>...</td>\n",
       "      <td>...</td>\n",
       "      <td>...</td>\n",
       "      <td>...</td>\n",
       "      <td>...</td>\n",
       "      <td>...</td>\n",
       "      <td>...</td>\n",
       "      <td>...</td>\n",
       "      <td>...</td>\n",
       "      <td>...</td>\n",
       "      <td>...</td>\n",
       "      <td>...</td>\n",
       "      <td>...</td>\n",
       "    </tr>\n",
       "    <tr>\n",
       "      <th>8688</th>\n",
       "      <td>9276_01</td>\n",
       "      <td>Europa</td>\n",
       "      <td>False</td>\n",
       "      <td>A/98/P</td>\n",
       "      <td>55 Cancri e</td>\n",
       "      <td>41.0</td>\n",
       "      <td>True</td>\n",
       "      <td>0.0</td>\n",
       "      <td>6819.0</td>\n",
       "      <td>0.0</td>\n",
       "      <td>1643.0</td>\n",
       "      <td>74.0</td>\n",
       "      <td>Gravior Noxnuther</td>\n",
       "      <td>False</td>\n",
       "    </tr>\n",
       "    <tr>\n",
       "      <th>8689</th>\n",
       "      <td>9278_01</td>\n",
       "      <td>Earth</td>\n",
       "      <td>True</td>\n",
       "      <td>G/1499/S</td>\n",
       "      <td>PSO J318.5-22</td>\n",
       "      <td>18.0</td>\n",
       "      <td>False</td>\n",
       "      <td>0.0</td>\n",
       "      <td>0.0</td>\n",
       "      <td>0.0</td>\n",
       "      <td>0.0</td>\n",
       "      <td>0.0</td>\n",
       "      <td>Kurta Mondalley</td>\n",
       "      <td>False</td>\n",
       "    </tr>\n",
       "    <tr>\n",
       "      <th>8690</th>\n",
       "      <td>9279_01</td>\n",
       "      <td>Earth</td>\n",
       "      <td>False</td>\n",
       "      <td>G/1500/S</td>\n",
       "      <td>TRAPPIST-1e</td>\n",
       "      <td>26.0</td>\n",
       "      <td>False</td>\n",
       "      <td>0.0</td>\n",
       "      <td>0.0</td>\n",
       "      <td>1872.0</td>\n",
       "      <td>1.0</td>\n",
       "      <td>0.0</td>\n",
       "      <td>Fayey Connon</td>\n",
       "      <td>True</td>\n",
       "    </tr>\n",
       "    <tr>\n",
       "      <th>8691</th>\n",
       "      <td>9280_01</td>\n",
       "      <td>Europa</td>\n",
       "      <td>False</td>\n",
       "      <td>E/608/S</td>\n",
       "      <td>55 Cancri e</td>\n",
       "      <td>32.0</td>\n",
       "      <td>False</td>\n",
       "      <td>0.0</td>\n",
       "      <td>1049.0</td>\n",
       "      <td>0.0</td>\n",
       "      <td>353.0</td>\n",
       "      <td>3235.0</td>\n",
       "      <td>Celeon Hontichre</td>\n",
       "      <td>False</td>\n",
       "    </tr>\n",
       "    <tr>\n",
       "      <th>8692</th>\n",
       "      <td>9280_02</td>\n",
       "      <td>Europa</td>\n",
       "      <td>False</td>\n",
       "      <td>E/608/S</td>\n",
       "      <td>TRAPPIST-1e</td>\n",
       "      <td>44.0</td>\n",
       "      <td>False</td>\n",
       "      <td>126.0</td>\n",
       "      <td>4688.0</td>\n",
       "      <td>0.0</td>\n",
       "      <td>0.0</td>\n",
       "      <td>12.0</td>\n",
       "      <td>Propsh Hontichre</td>\n",
       "      <td>True</td>\n",
       "    </tr>\n",
       "  </tbody>\n",
       "</table>\n",
       "<p>8693 rows × 14 columns</p>\n",
       "</div>"
      ],
      "text/plain": [
       "     PassengerId HomePlanet CryoSleep     Cabin    Destination   Age    VIP  \\\n",
       "0        0001_01     Europa     False     B/0/P    TRAPPIST-1e  39.0  False   \n",
       "1        0002_01      Earth     False     F/0/S    TRAPPIST-1e  24.0  False   \n",
       "2        0003_01     Europa     False     A/0/S    TRAPPIST-1e  58.0   True   \n",
       "3        0003_02     Europa     False     A/0/S    TRAPPIST-1e  33.0  False   \n",
       "4        0004_01      Earth     False     F/1/S    TRAPPIST-1e  16.0  False   \n",
       "...          ...        ...       ...       ...            ...   ...    ...   \n",
       "8688     9276_01     Europa     False    A/98/P    55 Cancri e  41.0   True   \n",
       "8689     9278_01      Earth      True  G/1499/S  PSO J318.5-22  18.0  False   \n",
       "8690     9279_01      Earth     False  G/1500/S    TRAPPIST-1e  26.0  False   \n",
       "8691     9280_01     Europa     False   E/608/S    55 Cancri e  32.0  False   \n",
       "8692     9280_02     Europa     False   E/608/S    TRAPPIST-1e  44.0  False   \n",
       "\n",
       "      RoomService  FoodCourt  ShoppingMall     Spa  VRDeck               Name  \\\n",
       "0             0.0        0.0           0.0     0.0     0.0    Maham Ofracculy   \n",
       "1           109.0        9.0          25.0   549.0    44.0       Juanna Vines   \n",
       "2            43.0     3576.0           0.0  6715.0    49.0      Altark Susent   \n",
       "3             0.0     1283.0         371.0  3329.0   193.0       Solam Susent   \n",
       "4           303.0       70.0         151.0   565.0     2.0  Willy Santantines   \n",
       "...           ...        ...           ...     ...     ...                ...   \n",
       "8688          0.0     6819.0           0.0  1643.0    74.0  Gravior Noxnuther   \n",
       "8689          0.0        0.0           0.0     0.0     0.0    Kurta Mondalley   \n",
       "8690          0.0        0.0        1872.0     1.0     0.0       Fayey Connon   \n",
       "8691          0.0     1049.0           0.0   353.0  3235.0   Celeon Hontichre   \n",
       "8692        126.0     4688.0           0.0     0.0    12.0   Propsh Hontichre   \n",
       "\n",
       "      Transported  \n",
       "0           False  \n",
       "1            True  \n",
       "2           False  \n",
       "3           False  \n",
       "4            True  \n",
       "...           ...  \n",
       "8688        False  \n",
       "8689        False  \n",
       "8690         True  \n",
       "8691        False  \n",
       "8692         True  \n",
       "\n",
       "[8693 rows x 14 columns]"
      ]
     },
     "execution_count": 3,
     "metadata": {},
     "output_type": "execute_result"
    }
   ],
   "source": [
    "train"
   ]
  },
  {
   "cell_type": "code",
   "execution_count": null,
   "id": "df083159",
   "metadata": {},
   "outputs": [],
   "source": []
  },
  {
   "cell_type": "code",
   "execution_count": null,
   "id": "5ced282b",
   "metadata": {},
   "outputs": [],
   "source": []
  },
  {
   "cell_type": "code",
   "execution_count": null,
   "id": "731d61ba",
   "metadata": {},
   "outputs": [],
   "source": []
  },
  {
   "cell_type": "code",
   "execution_count": null,
   "id": "53fae7ac",
   "metadata": {},
   "outputs": [],
   "source": []
  },
  {
   "cell_type": "code",
   "execution_count": null,
   "id": "35403619",
   "metadata": {},
   "outputs": [],
   "source": []
  },
  {
   "cell_type": "code",
   "execution_count": 4,
   "id": "9cc7550d",
   "metadata": {},
   "outputs": [
    {
     "data": {
      "text/html": [
       "<div>\n",
       "<style scoped>\n",
       "    .dataframe tbody tr th:only-of-type {\n",
       "        vertical-align: middle;\n",
       "    }\n",
       "\n",
       "    .dataframe tbody tr th {\n",
       "        vertical-align: top;\n",
       "    }\n",
       "\n",
       "    .dataframe thead th {\n",
       "        text-align: right;\n",
       "    }\n",
       "</style>\n",
       "<table border=\"1\" class=\"dataframe\">\n",
       "  <thead>\n",
       "    <tr style=\"text-align: right;\">\n",
       "      <th></th>\n",
       "      <th>PassengerId</th>\n",
       "      <th>HomePlanet</th>\n",
       "      <th>CryoSleep</th>\n",
       "      <th>Cabin</th>\n",
       "      <th>Destination</th>\n",
       "      <th>Age</th>\n",
       "      <th>VIP</th>\n",
       "      <th>RoomService</th>\n",
       "      <th>FoodCourt</th>\n",
       "      <th>ShoppingMall</th>\n",
       "      <th>Spa</th>\n",
       "      <th>VRDeck</th>\n",
       "      <th>Name</th>\n",
       "      <th>Transported</th>\n",
       "    </tr>\n",
       "  </thead>\n",
       "  <tbody>\n",
       "    <tr>\n",
       "      <th>0</th>\n",
       "      <td>0001_01</td>\n",
       "      <td>Europa</td>\n",
       "      <td>False</td>\n",
       "      <td>B/0/P</td>\n",
       "      <td>TRAPPIST-1e</td>\n",
       "      <td>39.0</td>\n",
       "      <td>False</td>\n",
       "      <td>0.0</td>\n",
       "      <td>0.0</td>\n",
       "      <td>0.0</td>\n",
       "      <td>0.0</td>\n",
       "      <td>0.0</td>\n",
       "      <td>Maham Ofracculy</td>\n",
       "      <td>False</td>\n",
       "    </tr>\n",
       "    <tr>\n",
       "      <th>1</th>\n",
       "      <td>0002_01</td>\n",
       "      <td>Earth</td>\n",
       "      <td>False</td>\n",
       "      <td>F/0/S</td>\n",
       "      <td>TRAPPIST-1e</td>\n",
       "      <td>24.0</td>\n",
       "      <td>False</td>\n",
       "      <td>109.0</td>\n",
       "      <td>9.0</td>\n",
       "      <td>25.0</td>\n",
       "      <td>549.0</td>\n",
       "      <td>44.0</td>\n",
       "      <td>Juanna Vines</td>\n",
       "      <td>True</td>\n",
       "    </tr>\n",
       "    <tr>\n",
       "      <th>2</th>\n",
       "      <td>0003_01</td>\n",
       "      <td>Europa</td>\n",
       "      <td>False</td>\n",
       "      <td>A/0/S</td>\n",
       "      <td>TRAPPIST-1e</td>\n",
       "      <td>58.0</td>\n",
       "      <td>True</td>\n",
       "      <td>43.0</td>\n",
       "      <td>3576.0</td>\n",
       "      <td>0.0</td>\n",
       "      <td>6715.0</td>\n",
       "      <td>49.0</td>\n",
       "      <td>Altark Susent</td>\n",
       "      <td>False</td>\n",
       "    </tr>\n",
       "    <tr>\n",
       "      <th>3</th>\n",
       "      <td>0003_02</td>\n",
       "      <td>Europa</td>\n",
       "      <td>False</td>\n",
       "      <td>A/0/S</td>\n",
       "      <td>TRAPPIST-1e</td>\n",
       "      <td>33.0</td>\n",
       "      <td>False</td>\n",
       "      <td>0.0</td>\n",
       "      <td>1283.0</td>\n",
       "      <td>371.0</td>\n",
       "      <td>3329.0</td>\n",
       "      <td>193.0</td>\n",
       "      <td>Solam Susent</td>\n",
       "      <td>False</td>\n",
       "    </tr>\n",
       "    <tr>\n",
       "      <th>4</th>\n",
       "      <td>0004_01</td>\n",
       "      <td>Earth</td>\n",
       "      <td>False</td>\n",
       "      <td>F/1/S</td>\n",
       "      <td>TRAPPIST-1e</td>\n",
       "      <td>16.0</td>\n",
       "      <td>False</td>\n",
       "      <td>303.0</td>\n",
       "      <td>70.0</td>\n",
       "      <td>151.0</td>\n",
       "      <td>565.0</td>\n",
       "      <td>2.0</td>\n",
       "      <td>Willy Santantines</td>\n",
       "      <td>True</td>\n",
       "    </tr>\n",
       "  </tbody>\n",
       "</table>\n",
       "</div>"
      ],
      "text/plain": [
       "  PassengerId HomePlanet CryoSleep  Cabin  Destination   Age    VIP  \\\n",
       "0     0001_01     Europa     False  B/0/P  TRAPPIST-1e  39.0  False   \n",
       "1     0002_01      Earth     False  F/0/S  TRAPPIST-1e  24.0  False   \n",
       "2     0003_01     Europa     False  A/0/S  TRAPPIST-1e  58.0   True   \n",
       "3     0003_02     Europa     False  A/0/S  TRAPPIST-1e  33.0  False   \n",
       "4     0004_01      Earth     False  F/1/S  TRAPPIST-1e  16.0  False   \n",
       "\n",
       "   RoomService  FoodCourt  ShoppingMall     Spa  VRDeck               Name  \\\n",
       "0          0.0        0.0           0.0     0.0     0.0    Maham Ofracculy   \n",
       "1        109.0        9.0          25.0   549.0    44.0       Juanna Vines   \n",
       "2         43.0     3576.0           0.0  6715.0    49.0      Altark Susent   \n",
       "3          0.0     1283.0         371.0  3329.0   193.0       Solam Susent   \n",
       "4        303.0       70.0         151.0   565.0     2.0  Willy Santantines   \n",
       "\n",
       "   Transported  \n",
       "0        False  \n",
       "1         True  \n",
       "2        False  \n",
       "3        False  \n",
       "4         True  "
      ]
     },
     "execution_count": 4,
     "metadata": {},
     "output_type": "execute_result"
    }
   ],
   "source": [
    "train.head()"
   ]
  },
  {
   "cell_type": "markdown",
   "id": "9ded8d0a",
   "metadata": {},
   "source": [
    "##### PassengerId contain the group number which each individual is traveling (We can extract it) so we shouldnt drop it"
   ]
  },
  {
   "cell_type": "markdown",
   "id": "0793f705",
   "metadata": {},
   "source": [
    "## Data Exploration"
   ]
  },
  {
   "cell_type": "code",
   "execution_count": 5,
   "id": "0e98a661",
   "metadata": {},
   "outputs": [
    {
     "data": {
      "text/plain": [
       "((8693, 14), (4277, 13))"
      ]
     },
     "execution_count": 5,
     "metadata": {},
     "output_type": "execute_result"
    }
   ],
   "source": [
    "train.shape,test.shape"
   ]
  },
  {
   "cell_type": "code",
   "execution_count": 6,
   "id": "4bd18618",
   "metadata": {},
   "outputs": [
    {
     "data": {
      "text/plain": [
       "PassengerId       0\n",
       "HomePlanet      201\n",
       "CryoSleep       217\n",
       "Cabin           199\n",
       "Destination     182\n",
       "Age             179\n",
       "VIP             203\n",
       "RoomService     181\n",
       "FoodCourt       183\n",
       "ShoppingMall    208\n",
       "Spa             183\n",
       "VRDeck          188\n",
       "Name            200\n",
       "Transported       0\n",
       "dtype: int64"
      ]
     },
     "execution_count": 6,
     "metadata": {},
     "output_type": "execute_result"
    }
   ],
   "source": [
    "# Check missing values\n",
    "train.isnull().sum()"
   ]
  },
  {
   "cell_type": "code",
   "execution_count": 7,
   "id": "8b5384c4",
   "metadata": {},
   "outputs": [
    {
     "data": {
      "text/plain": [
       "PassengerId       0\n",
       "HomePlanet       87\n",
       "CryoSleep        93\n",
       "Cabin           100\n",
       "Destination      92\n",
       "Age              91\n",
       "VIP              93\n",
       "RoomService      82\n",
       "FoodCourt       106\n",
       "ShoppingMall     98\n",
       "Spa             101\n",
       "VRDeck           80\n",
       "Name             94\n",
       "dtype: int64"
      ]
     },
     "execution_count": 7,
     "metadata": {},
     "output_type": "execute_result"
    }
   ],
   "source": [
    "test.isnull().sum()"
   ]
  },
  {
   "cell_type": "code",
   "execution_count": 8,
   "id": "e5838c47",
   "metadata": {},
   "outputs": [
    {
     "data": {
      "text/plain": [
       "PassengerId     0.000000\n",
       "HomePlanet      2.312205\n",
       "CryoSleep       2.496261\n",
       "Cabin           2.289198\n",
       "Destination     2.093639\n",
       "Age             2.059128\n",
       "VIP             2.335212\n",
       "RoomService     2.082135\n",
       "FoodCourt       2.105142\n",
       "ShoppingMall    2.392730\n",
       "Spa             2.105142\n",
       "VRDeck          2.162660\n",
       "Name            2.300702\n",
       "Transported     0.000000\n",
       "dtype: float64"
      ]
     },
     "execution_count": 8,
     "metadata": {},
     "output_type": "execute_result"
    }
   ],
   "source": [
    "#Check percentage of missing values\n",
    "train.isnull().mean()*100"
   ]
  },
  {
   "cell_type": "code",
   "execution_count": 9,
   "id": "4b1b2535",
   "metadata": {},
   "outputs": [
    {
     "data": {
      "text/plain": [
       "0"
      ]
     },
     "execution_count": 9,
     "metadata": {},
     "output_type": "execute_result"
    }
   ],
   "source": [
    "test.duplicated().sum()"
   ]
  },
  {
   "cell_type": "code",
   "execution_count": 10,
   "id": "2faf0e98",
   "metadata": {},
   "outputs": [
    {
     "data": {
      "text/plain": [
       "0"
      ]
     },
     "execution_count": 10,
     "metadata": {},
     "output_type": "execute_result"
    }
   ],
   "source": [
    "# Check Duplicated rows\n",
    "train.duplicated().sum()"
   ]
  },
  {
   "cell_type": "code",
   "execution_count": 11,
   "id": "0a8d2873",
   "metadata": {},
   "outputs": [],
   "source": [
    "# Create null mask to return all row that contain missing values in any axis\n",
    "null_mask = train.isnull().any(axis=1)"
   ]
  },
  {
   "cell_type": "code",
   "execution_count": 12,
   "id": "2f67cf8b",
   "metadata": {},
   "outputs": [
    {
     "data": {
      "text/html": [
       "<div>\n",
       "<style scoped>\n",
       "    .dataframe tbody tr th:only-of-type {\n",
       "        vertical-align: middle;\n",
       "    }\n",
       "\n",
       "    .dataframe tbody tr th {\n",
       "        vertical-align: top;\n",
       "    }\n",
       "\n",
       "    .dataframe thead th {\n",
       "        text-align: right;\n",
       "    }\n",
       "</style>\n",
       "<table border=\"1\" class=\"dataframe\">\n",
       "  <thead>\n",
       "    <tr style=\"text-align: right;\">\n",
       "      <th></th>\n",
       "      <th>PassengerId</th>\n",
       "      <th>HomePlanet</th>\n",
       "      <th>CryoSleep</th>\n",
       "      <th>Cabin</th>\n",
       "      <th>Destination</th>\n",
       "      <th>Age</th>\n",
       "      <th>VIP</th>\n",
       "      <th>RoomService</th>\n",
       "      <th>FoodCourt</th>\n",
       "      <th>ShoppingMall</th>\n",
       "      <th>Spa</th>\n",
       "      <th>VRDeck</th>\n",
       "      <th>Name</th>\n",
       "      <th>Transported</th>\n",
       "    </tr>\n",
       "  </thead>\n",
       "  <tbody>\n",
       "    <tr>\n",
       "      <th>7</th>\n",
       "      <td>0006_02</td>\n",
       "      <td>Earth</td>\n",
       "      <td>True</td>\n",
       "      <td>G/0/S</td>\n",
       "      <td>TRAPPIST-1e</td>\n",
       "      <td>28.0</td>\n",
       "      <td>False</td>\n",
       "      <td>0.0</td>\n",
       "      <td>0.0</td>\n",
       "      <td>0.0</td>\n",
       "      <td>0.0</td>\n",
       "      <td>NaN</td>\n",
       "      <td>Candra Jacostaffey</td>\n",
       "      <td>True</td>\n",
       "    </tr>\n",
       "    <tr>\n",
       "      <th>10</th>\n",
       "      <td>0008_02</td>\n",
       "      <td>Europa</td>\n",
       "      <td>True</td>\n",
       "      <td>B/1/P</td>\n",
       "      <td>TRAPPIST-1e</td>\n",
       "      <td>34.0</td>\n",
       "      <td>False</td>\n",
       "      <td>0.0</td>\n",
       "      <td>0.0</td>\n",
       "      <td>NaN</td>\n",
       "      <td>0.0</td>\n",
       "      <td>0.0</td>\n",
       "      <td>Altardr Flatic</td>\n",
       "      <td>True</td>\n",
       "    </tr>\n",
       "    <tr>\n",
       "      <th>15</th>\n",
       "      <td>0012_01</td>\n",
       "      <td>Earth</td>\n",
       "      <td>False</td>\n",
       "      <td>NaN</td>\n",
       "      <td>TRAPPIST-1e</td>\n",
       "      <td>31.0</td>\n",
       "      <td>False</td>\n",
       "      <td>32.0</td>\n",
       "      <td>0.0</td>\n",
       "      <td>876.0</td>\n",
       "      <td>0.0</td>\n",
       "      <td>0.0</td>\n",
       "      <td>Justie Pooles</td>\n",
       "      <td>False</td>\n",
       "    </tr>\n",
       "    <tr>\n",
       "      <th>16</th>\n",
       "      <td>0014_01</td>\n",
       "      <td>Mars</td>\n",
       "      <td>False</td>\n",
       "      <td>F/3/P</td>\n",
       "      <td>55 Cancri e</td>\n",
       "      <td>27.0</td>\n",
       "      <td>False</td>\n",
       "      <td>1286.0</td>\n",
       "      <td>122.0</td>\n",
       "      <td>NaN</td>\n",
       "      <td>0.0</td>\n",
       "      <td>0.0</td>\n",
       "      <td>Flats Eccle</td>\n",
       "      <td>False</td>\n",
       "    </tr>\n",
       "    <tr>\n",
       "      <th>23</th>\n",
       "      <td>0020_03</td>\n",
       "      <td>Earth</td>\n",
       "      <td>True</td>\n",
       "      <td>E/0/S</td>\n",
       "      <td>55 Cancri e</td>\n",
       "      <td>29.0</td>\n",
       "      <td>False</td>\n",
       "      <td>0.0</td>\n",
       "      <td>0.0</td>\n",
       "      <td>NaN</td>\n",
       "      <td>0.0</td>\n",
       "      <td>0.0</td>\n",
       "      <td>Mollen Mcfaddennon</td>\n",
       "      <td>False</td>\n",
       "    </tr>\n",
       "    <tr>\n",
       "      <th>...</th>\n",
       "      <td>...</td>\n",
       "      <td>...</td>\n",
       "      <td>...</td>\n",
       "      <td>...</td>\n",
       "      <td>...</td>\n",
       "      <td>...</td>\n",
       "      <td>...</td>\n",
       "      <td>...</td>\n",
       "      <td>...</td>\n",
       "      <td>...</td>\n",
       "      <td>...</td>\n",
       "      <td>...</td>\n",
       "      <td>...</td>\n",
       "      <td>...</td>\n",
       "    </tr>\n",
       "    <tr>\n",
       "      <th>8667</th>\n",
       "      <td>9250_01</td>\n",
       "      <td>Europa</td>\n",
       "      <td>False</td>\n",
       "      <td>E/597/P</td>\n",
       "      <td>TRAPPIST-1e</td>\n",
       "      <td>29.0</td>\n",
       "      <td>False</td>\n",
       "      <td>0.0</td>\n",
       "      <td>2972.0</td>\n",
       "      <td>NaN</td>\n",
       "      <td>28.0</td>\n",
       "      <td>188.0</td>\n",
       "      <td>Chain Reedectied</td>\n",
       "      <td>True</td>\n",
       "    </tr>\n",
       "    <tr>\n",
       "      <th>8674</th>\n",
       "      <td>9257_01</td>\n",
       "      <td>NaN</td>\n",
       "      <td>False</td>\n",
       "      <td>F/1892/P</td>\n",
       "      <td>TRAPPIST-1e</td>\n",
       "      <td>13.0</td>\n",
       "      <td>False</td>\n",
       "      <td>39.0</td>\n",
       "      <td>0.0</td>\n",
       "      <td>1085.0</td>\n",
       "      <td>24.0</td>\n",
       "      <td>0.0</td>\n",
       "      <td>Ties Apple</td>\n",
       "      <td>False</td>\n",
       "    </tr>\n",
       "    <tr>\n",
       "      <th>8675</th>\n",
       "      <td>9259_01</td>\n",
       "      <td>Earth</td>\n",
       "      <td>NaN</td>\n",
       "      <td>F/1893/P</td>\n",
       "      <td>TRAPPIST-1e</td>\n",
       "      <td>44.0</td>\n",
       "      <td>False</td>\n",
       "      <td>1030.0</td>\n",
       "      <td>1015.0</td>\n",
       "      <td>0.0</td>\n",
       "      <td>11.0</td>\n",
       "      <td>NaN</td>\n",
       "      <td>Annah Gilleyons</td>\n",
       "      <td>True</td>\n",
       "    </tr>\n",
       "    <tr>\n",
       "      <th>8684</th>\n",
       "      <td>9274_01</td>\n",
       "      <td>NaN</td>\n",
       "      <td>True</td>\n",
       "      <td>G/1508/P</td>\n",
       "      <td>TRAPPIST-1e</td>\n",
       "      <td>23.0</td>\n",
       "      <td>False</td>\n",
       "      <td>0.0</td>\n",
       "      <td>0.0</td>\n",
       "      <td>0.0</td>\n",
       "      <td>0.0</td>\n",
       "      <td>0.0</td>\n",
       "      <td>Chelsa Bullisey</td>\n",
       "      <td>True</td>\n",
       "    </tr>\n",
       "    <tr>\n",
       "      <th>8687</th>\n",
       "      <td>9275_03</td>\n",
       "      <td>Europa</td>\n",
       "      <td>NaN</td>\n",
       "      <td>A/97/P</td>\n",
       "      <td>TRAPPIST-1e</td>\n",
       "      <td>30.0</td>\n",
       "      <td>False</td>\n",
       "      <td>0.0</td>\n",
       "      <td>3208.0</td>\n",
       "      <td>0.0</td>\n",
       "      <td>2.0</td>\n",
       "      <td>330.0</td>\n",
       "      <td>Atlasym Conable</td>\n",
       "      <td>True</td>\n",
       "    </tr>\n",
       "  </tbody>\n",
       "</table>\n",
       "<p>2087 rows × 14 columns</p>\n",
       "</div>"
      ],
      "text/plain": [
       "     PassengerId HomePlanet CryoSleep     Cabin  Destination   Age    VIP  \\\n",
       "7        0006_02      Earth      True     G/0/S  TRAPPIST-1e  28.0  False   \n",
       "10       0008_02     Europa      True     B/1/P  TRAPPIST-1e  34.0  False   \n",
       "15       0012_01      Earth     False       NaN  TRAPPIST-1e  31.0  False   \n",
       "16       0014_01       Mars     False     F/3/P  55 Cancri e  27.0  False   \n",
       "23       0020_03      Earth      True     E/0/S  55 Cancri e  29.0  False   \n",
       "...          ...        ...       ...       ...          ...   ...    ...   \n",
       "8667     9250_01     Europa     False   E/597/P  TRAPPIST-1e  29.0  False   \n",
       "8674     9257_01        NaN     False  F/1892/P  TRAPPIST-1e  13.0  False   \n",
       "8675     9259_01      Earth       NaN  F/1893/P  TRAPPIST-1e  44.0  False   \n",
       "8684     9274_01        NaN      True  G/1508/P  TRAPPIST-1e  23.0  False   \n",
       "8687     9275_03     Europa       NaN    A/97/P  TRAPPIST-1e  30.0  False   \n",
       "\n",
       "      RoomService  FoodCourt  ShoppingMall   Spa  VRDeck                Name  \\\n",
       "7             0.0        0.0           0.0   0.0     NaN  Candra Jacostaffey   \n",
       "10            0.0        0.0           NaN   0.0     0.0      Altardr Flatic   \n",
       "15           32.0        0.0         876.0   0.0     0.0       Justie Pooles   \n",
       "16         1286.0      122.0           NaN   0.0     0.0         Flats Eccle   \n",
       "23            0.0        0.0           NaN   0.0     0.0  Mollen Mcfaddennon   \n",
       "...           ...        ...           ...   ...     ...                 ...   \n",
       "8667          0.0     2972.0           NaN  28.0   188.0    Chain Reedectied   \n",
       "8674         39.0        0.0        1085.0  24.0     0.0          Ties Apple   \n",
       "8675       1030.0     1015.0           0.0  11.0     NaN     Annah Gilleyons   \n",
       "8684          0.0        0.0           0.0   0.0     0.0     Chelsa Bullisey   \n",
       "8687          0.0     3208.0           0.0   2.0   330.0     Atlasym Conable   \n",
       "\n",
       "      Transported  \n",
       "7            True  \n",
       "10           True  \n",
       "15          False  \n",
       "16          False  \n",
       "23          False  \n",
       "...           ...  \n",
       "8667         True  \n",
       "8674        False  \n",
       "8675         True  \n",
       "8684         True  \n",
       "8687         True  \n",
       "\n",
       "[2087 rows x 14 columns]"
      ]
     },
     "execution_count": 12,
     "metadata": {},
     "output_type": "execute_result"
    }
   ],
   "source": [
    "# Masking\n",
    "train[null_mask]"
   ]
  },
  {
   "cell_type": "code",
   "execution_count": 13,
   "id": "b7b539ad",
   "metadata": {},
   "outputs": [],
   "source": [
    "## we will do EDA to identify how to deals with NA values"
   ]
  },
  {
   "cell_type": "code",
   "execution_count": 14,
   "id": "379662be",
   "metadata": {},
   "outputs": [
    {
     "data": {
      "text/html": [
       "<div>\n",
       "<style scoped>\n",
       "    .dataframe tbody tr th:only-of-type {\n",
       "        vertical-align: middle;\n",
       "    }\n",
       "\n",
       "    .dataframe tbody tr th {\n",
       "        vertical-align: top;\n",
       "    }\n",
       "\n",
       "    .dataframe thead th {\n",
       "        text-align: right;\n",
       "    }\n",
       "</style>\n",
       "<table border=\"1\" class=\"dataframe\">\n",
       "  <thead>\n",
       "    <tr style=\"text-align: right;\">\n",
       "      <th></th>\n",
       "      <th>PassengerId</th>\n",
       "      <th>HomePlanet</th>\n",
       "      <th>CryoSleep</th>\n",
       "      <th>Cabin</th>\n",
       "      <th>Destination</th>\n",
       "      <th>Age</th>\n",
       "      <th>VIP</th>\n",
       "      <th>RoomService</th>\n",
       "      <th>FoodCourt</th>\n",
       "      <th>ShoppingMall</th>\n",
       "      <th>Spa</th>\n",
       "      <th>VRDeck</th>\n",
       "      <th>Name</th>\n",
       "      <th>Transported</th>\n",
       "    </tr>\n",
       "  </thead>\n",
       "  <tbody>\n",
       "    <tr>\n",
       "      <th>0</th>\n",
       "      <td>0001_01</td>\n",
       "      <td>Europa</td>\n",
       "      <td>False</td>\n",
       "      <td>B/0/P</td>\n",
       "      <td>TRAPPIST-1e</td>\n",
       "      <td>39.0</td>\n",
       "      <td>False</td>\n",
       "      <td>0.0</td>\n",
       "      <td>0.0</td>\n",
       "      <td>0.0</td>\n",
       "      <td>0.0</td>\n",
       "      <td>0.0</td>\n",
       "      <td>Maham Ofracculy</td>\n",
       "      <td>False</td>\n",
       "    </tr>\n",
       "    <tr>\n",
       "      <th>1</th>\n",
       "      <td>0002_01</td>\n",
       "      <td>Earth</td>\n",
       "      <td>False</td>\n",
       "      <td>F/0/S</td>\n",
       "      <td>TRAPPIST-1e</td>\n",
       "      <td>24.0</td>\n",
       "      <td>False</td>\n",
       "      <td>109.0</td>\n",
       "      <td>9.0</td>\n",
       "      <td>25.0</td>\n",
       "      <td>549.0</td>\n",
       "      <td>44.0</td>\n",
       "      <td>Juanna Vines</td>\n",
       "      <td>True</td>\n",
       "    </tr>\n",
       "    <tr>\n",
       "      <th>2</th>\n",
       "      <td>0003_01</td>\n",
       "      <td>Europa</td>\n",
       "      <td>False</td>\n",
       "      <td>A/0/S</td>\n",
       "      <td>TRAPPIST-1e</td>\n",
       "      <td>58.0</td>\n",
       "      <td>True</td>\n",
       "      <td>43.0</td>\n",
       "      <td>3576.0</td>\n",
       "      <td>0.0</td>\n",
       "      <td>6715.0</td>\n",
       "      <td>49.0</td>\n",
       "      <td>Altark Susent</td>\n",
       "      <td>False</td>\n",
       "    </tr>\n",
       "    <tr>\n",
       "      <th>3</th>\n",
       "      <td>0003_02</td>\n",
       "      <td>Europa</td>\n",
       "      <td>False</td>\n",
       "      <td>A/0/S</td>\n",
       "      <td>TRAPPIST-1e</td>\n",
       "      <td>33.0</td>\n",
       "      <td>False</td>\n",
       "      <td>0.0</td>\n",
       "      <td>1283.0</td>\n",
       "      <td>371.0</td>\n",
       "      <td>3329.0</td>\n",
       "      <td>193.0</td>\n",
       "      <td>Solam Susent</td>\n",
       "      <td>False</td>\n",
       "    </tr>\n",
       "    <tr>\n",
       "      <th>4</th>\n",
       "      <td>0004_01</td>\n",
       "      <td>Earth</td>\n",
       "      <td>False</td>\n",
       "      <td>F/1/S</td>\n",
       "      <td>TRAPPIST-1e</td>\n",
       "      <td>16.0</td>\n",
       "      <td>False</td>\n",
       "      <td>303.0</td>\n",
       "      <td>70.0</td>\n",
       "      <td>151.0</td>\n",
       "      <td>565.0</td>\n",
       "      <td>2.0</td>\n",
       "      <td>Willy Santantines</td>\n",
       "      <td>True</td>\n",
       "    </tr>\n",
       "    <tr>\n",
       "      <th>...</th>\n",
       "      <td>...</td>\n",
       "      <td>...</td>\n",
       "      <td>...</td>\n",
       "      <td>...</td>\n",
       "      <td>...</td>\n",
       "      <td>...</td>\n",
       "      <td>...</td>\n",
       "      <td>...</td>\n",
       "      <td>...</td>\n",
       "      <td>...</td>\n",
       "      <td>...</td>\n",
       "      <td>...</td>\n",
       "      <td>...</td>\n",
       "      <td>...</td>\n",
       "    </tr>\n",
       "    <tr>\n",
       "      <th>8688</th>\n",
       "      <td>9276_01</td>\n",
       "      <td>Europa</td>\n",
       "      <td>False</td>\n",
       "      <td>A/98/P</td>\n",
       "      <td>55 Cancri e</td>\n",
       "      <td>41.0</td>\n",
       "      <td>True</td>\n",
       "      <td>0.0</td>\n",
       "      <td>6819.0</td>\n",
       "      <td>0.0</td>\n",
       "      <td>1643.0</td>\n",
       "      <td>74.0</td>\n",
       "      <td>Gravior Noxnuther</td>\n",
       "      <td>False</td>\n",
       "    </tr>\n",
       "    <tr>\n",
       "      <th>8689</th>\n",
       "      <td>9278_01</td>\n",
       "      <td>Earth</td>\n",
       "      <td>True</td>\n",
       "      <td>G/1499/S</td>\n",
       "      <td>PSO J318.5-22</td>\n",
       "      <td>18.0</td>\n",
       "      <td>False</td>\n",
       "      <td>0.0</td>\n",
       "      <td>0.0</td>\n",
       "      <td>0.0</td>\n",
       "      <td>0.0</td>\n",
       "      <td>0.0</td>\n",
       "      <td>Kurta Mondalley</td>\n",
       "      <td>False</td>\n",
       "    </tr>\n",
       "    <tr>\n",
       "      <th>8690</th>\n",
       "      <td>9279_01</td>\n",
       "      <td>Earth</td>\n",
       "      <td>False</td>\n",
       "      <td>G/1500/S</td>\n",
       "      <td>TRAPPIST-1e</td>\n",
       "      <td>26.0</td>\n",
       "      <td>False</td>\n",
       "      <td>0.0</td>\n",
       "      <td>0.0</td>\n",
       "      <td>1872.0</td>\n",
       "      <td>1.0</td>\n",
       "      <td>0.0</td>\n",
       "      <td>Fayey Connon</td>\n",
       "      <td>True</td>\n",
       "    </tr>\n",
       "    <tr>\n",
       "      <th>8691</th>\n",
       "      <td>9280_01</td>\n",
       "      <td>Europa</td>\n",
       "      <td>False</td>\n",
       "      <td>E/608/S</td>\n",
       "      <td>55 Cancri e</td>\n",
       "      <td>32.0</td>\n",
       "      <td>False</td>\n",
       "      <td>0.0</td>\n",
       "      <td>1049.0</td>\n",
       "      <td>0.0</td>\n",
       "      <td>353.0</td>\n",
       "      <td>3235.0</td>\n",
       "      <td>Celeon Hontichre</td>\n",
       "      <td>False</td>\n",
       "    </tr>\n",
       "    <tr>\n",
       "      <th>8692</th>\n",
       "      <td>9280_02</td>\n",
       "      <td>Europa</td>\n",
       "      <td>False</td>\n",
       "      <td>E/608/S</td>\n",
       "      <td>TRAPPIST-1e</td>\n",
       "      <td>44.0</td>\n",
       "      <td>False</td>\n",
       "      <td>126.0</td>\n",
       "      <td>4688.0</td>\n",
       "      <td>0.0</td>\n",
       "      <td>0.0</td>\n",
       "      <td>12.0</td>\n",
       "      <td>Propsh Hontichre</td>\n",
       "      <td>True</td>\n",
       "    </tr>\n",
       "  </tbody>\n",
       "</table>\n",
       "<p>8693 rows × 14 columns</p>\n",
       "</div>"
      ],
      "text/plain": [
       "     PassengerId HomePlanet CryoSleep     Cabin    Destination   Age    VIP  \\\n",
       "0        0001_01     Europa     False     B/0/P    TRAPPIST-1e  39.0  False   \n",
       "1        0002_01      Earth     False     F/0/S    TRAPPIST-1e  24.0  False   \n",
       "2        0003_01     Europa     False     A/0/S    TRAPPIST-1e  58.0   True   \n",
       "3        0003_02     Europa     False     A/0/S    TRAPPIST-1e  33.0  False   \n",
       "4        0004_01      Earth     False     F/1/S    TRAPPIST-1e  16.0  False   \n",
       "...          ...        ...       ...       ...            ...   ...    ...   \n",
       "8688     9276_01     Europa     False    A/98/P    55 Cancri e  41.0   True   \n",
       "8689     9278_01      Earth      True  G/1499/S  PSO J318.5-22  18.0  False   \n",
       "8690     9279_01      Earth     False  G/1500/S    TRAPPIST-1e  26.0  False   \n",
       "8691     9280_01     Europa     False   E/608/S    55 Cancri e  32.0  False   \n",
       "8692     9280_02     Europa     False   E/608/S    TRAPPIST-1e  44.0  False   \n",
       "\n",
       "      RoomService  FoodCourt  ShoppingMall     Spa  VRDeck               Name  \\\n",
       "0             0.0        0.0           0.0     0.0     0.0    Maham Ofracculy   \n",
       "1           109.0        9.0          25.0   549.0    44.0       Juanna Vines   \n",
       "2            43.0     3576.0           0.0  6715.0    49.0      Altark Susent   \n",
       "3             0.0     1283.0         371.0  3329.0   193.0       Solam Susent   \n",
       "4           303.0       70.0         151.0   565.0     2.0  Willy Santantines   \n",
       "...           ...        ...           ...     ...     ...                ...   \n",
       "8688          0.0     6819.0           0.0  1643.0    74.0  Gravior Noxnuther   \n",
       "8689          0.0        0.0           0.0     0.0     0.0    Kurta Mondalley   \n",
       "8690          0.0        0.0        1872.0     1.0     0.0       Fayey Connon   \n",
       "8691          0.0     1049.0           0.0   353.0  3235.0   Celeon Hontichre   \n",
       "8692        126.0     4688.0           0.0     0.0    12.0   Propsh Hontichre   \n",
       "\n",
       "      Transported  \n",
       "0           False  \n",
       "1            True  \n",
       "2           False  \n",
       "3           False  \n",
       "4            True  \n",
       "...           ...  \n",
       "8688        False  \n",
       "8689        False  \n",
       "8690         True  \n",
       "8691        False  \n",
       "8692         True  \n",
       "\n",
       "[8693 rows x 14 columns]"
      ]
     },
     "execution_count": 14,
     "metadata": {},
     "output_type": "execute_result"
    }
   ],
   "source": [
    "train"
   ]
  },
  {
   "cell_type": "markdown",
   "id": "93750a50",
   "metadata": {},
   "source": [
    "# EDA "
   ]
  },
  {
   "cell_type": "markdown",
   "id": "24532eb9",
   "metadata": {},
   "source": [
    "## Univarient analysis"
   ]
  },
  {
   "cell_type": "code",
   "execution_count": 15,
   "id": "45337c5e",
   "metadata": {},
   "outputs": [
    {
     "data": {
      "text/html": [
       "<div>\n",
       "<style scoped>\n",
       "    .dataframe tbody tr th:only-of-type {\n",
       "        vertical-align: middle;\n",
       "    }\n",
       "\n",
       "    .dataframe tbody tr th {\n",
       "        vertical-align: top;\n",
       "    }\n",
       "\n",
       "    .dataframe thead th {\n",
       "        text-align: right;\n",
       "    }\n",
       "</style>\n",
       "<table border=\"1\" class=\"dataframe\">\n",
       "  <thead>\n",
       "    <tr style=\"text-align: right;\">\n",
       "      <th></th>\n",
       "      <th>PassengerId</th>\n",
       "      <th>HomePlanet</th>\n",
       "      <th>CryoSleep</th>\n",
       "      <th>Cabin</th>\n",
       "      <th>Destination</th>\n",
       "      <th>Age</th>\n",
       "      <th>VIP</th>\n",
       "      <th>RoomService</th>\n",
       "      <th>FoodCourt</th>\n",
       "      <th>ShoppingMall</th>\n",
       "      <th>Spa</th>\n",
       "      <th>VRDeck</th>\n",
       "      <th>Name</th>\n",
       "      <th>Transported</th>\n",
       "    </tr>\n",
       "  </thead>\n",
       "  <tbody>\n",
       "    <tr>\n",
       "      <th>0</th>\n",
       "      <td>0001_01</td>\n",
       "      <td>Europa</td>\n",
       "      <td>False</td>\n",
       "      <td>B/0/P</td>\n",
       "      <td>TRAPPIST-1e</td>\n",
       "      <td>39.0</td>\n",
       "      <td>False</td>\n",
       "      <td>0.0</td>\n",
       "      <td>0.0</td>\n",
       "      <td>0.0</td>\n",
       "      <td>0.0</td>\n",
       "      <td>0.0</td>\n",
       "      <td>Maham Ofracculy</td>\n",
       "      <td>False</td>\n",
       "    </tr>\n",
       "    <tr>\n",
       "      <th>1</th>\n",
       "      <td>0002_01</td>\n",
       "      <td>Earth</td>\n",
       "      <td>False</td>\n",
       "      <td>F/0/S</td>\n",
       "      <td>TRAPPIST-1e</td>\n",
       "      <td>24.0</td>\n",
       "      <td>False</td>\n",
       "      <td>109.0</td>\n",
       "      <td>9.0</td>\n",
       "      <td>25.0</td>\n",
       "      <td>549.0</td>\n",
       "      <td>44.0</td>\n",
       "      <td>Juanna Vines</td>\n",
       "      <td>True</td>\n",
       "    </tr>\n",
       "    <tr>\n",
       "      <th>2</th>\n",
       "      <td>0003_01</td>\n",
       "      <td>Europa</td>\n",
       "      <td>False</td>\n",
       "      <td>A/0/S</td>\n",
       "      <td>TRAPPIST-1e</td>\n",
       "      <td>58.0</td>\n",
       "      <td>True</td>\n",
       "      <td>43.0</td>\n",
       "      <td>3576.0</td>\n",
       "      <td>0.0</td>\n",
       "      <td>6715.0</td>\n",
       "      <td>49.0</td>\n",
       "      <td>Altark Susent</td>\n",
       "      <td>False</td>\n",
       "    </tr>\n",
       "    <tr>\n",
       "      <th>3</th>\n",
       "      <td>0003_02</td>\n",
       "      <td>Europa</td>\n",
       "      <td>False</td>\n",
       "      <td>A/0/S</td>\n",
       "      <td>TRAPPIST-1e</td>\n",
       "      <td>33.0</td>\n",
       "      <td>False</td>\n",
       "      <td>0.0</td>\n",
       "      <td>1283.0</td>\n",
       "      <td>371.0</td>\n",
       "      <td>3329.0</td>\n",
       "      <td>193.0</td>\n",
       "      <td>Solam Susent</td>\n",
       "      <td>False</td>\n",
       "    </tr>\n",
       "    <tr>\n",
       "      <th>4</th>\n",
       "      <td>0004_01</td>\n",
       "      <td>Earth</td>\n",
       "      <td>False</td>\n",
       "      <td>F/1/S</td>\n",
       "      <td>TRAPPIST-1e</td>\n",
       "      <td>16.0</td>\n",
       "      <td>False</td>\n",
       "      <td>303.0</td>\n",
       "      <td>70.0</td>\n",
       "      <td>151.0</td>\n",
       "      <td>565.0</td>\n",
       "      <td>2.0</td>\n",
       "      <td>Willy Santantines</td>\n",
       "      <td>True</td>\n",
       "    </tr>\n",
       "    <tr>\n",
       "      <th>...</th>\n",
       "      <td>...</td>\n",
       "      <td>...</td>\n",
       "      <td>...</td>\n",
       "      <td>...</td>\n",
       "      <td>...</td>\n",
       "      <td>...</td>\n",
       "      <td>...</td>\n",
       "      <td>...</td>\n",
       "      <td>...</td>\n",
       "      <td>...</td>\n",
       "      <td>...</td>\n",
       "      <td>...</td>\n",
       "      <td>...</td>\n",
       "      <td>...</td>\n",
       "    </tr>\n",
       "    <tr>\n",
       "      <th>8688</th>\n",
       "      <td>9276_01</td>\n",
       "      <td>Europa</td>\n",
       "      <td>False</td>\n",
       "      <td>A/98/P</td>\n",
       "      <td>55 Cancri e</td>\n",
       "      <td>41.0</td>\n",
       "      <td>True</td>\n",
       "      <td>0.0</td>\n",
       "      <td>6819.0</td>\n",
       "      <td>0.0</td>\n",
       "      <td>1643.0</td>\n",
       "      <td>74.0</td>\n",
       "      <td>Gravior Noxnuther</td>\n",
       "      <td>False</td>\n",
       "    </tr>\n",
       "    <tr>\n",
       "      <th>8689</th>\n",
       "      <td>9278_01</td>\n",
       "      <td>Earth</td>\n",
       "      <td>True</td>\n",
       "      <td>G/1499/S</td>\n",
       "      <td>PSO J318.5-22</td>\n",
       "      <td>18.0</td>\n",
       "      <td>False</td>\n",
       "      <td>0.0</td>\n",
       "      <td>0.0</td>\n",
       "      <td>0.0</td>\n",
       "      <td>0.0</td>\n",
       "      <td>0.0</td>\n",
       "      <td>Kurta Mondalley</td>\n",
       "      <td>False</td>\n",
       "    </tr>\n",
       "    <tr>\n",
       "      <th>8690</th>\n",
       "      <td>9279_01</td>\n",
       "      <td>Earth</td>\n",
       "      <td>False</td>\n",
       "      <td>G/1500/S</td>\n",
       "      <td>TRAPPIST-1e</td>\n",
       "      <td>26.0</td>\n",
       "      <td>False</td>\n",
       "      <td>0.0</td>\n",
       "      <td>0.0</td>\n",
       "      <td>1872.0</td>\n",
       "      <td>1.0</td>\n",
       "      <td>0.0</td>\n",
       "      <td>Fayey Connon</td>\n",
       "      <td>True</td>\n",
       "    </tr>\n",
       "    <tr>\n",
       "      <th>8691</th>\n",
       "      <td>9280_01</td>\n",
       "      <td>Europa</td>\n",
       "      <td>False</td>\n",
       "      <td>E/608/S</td>\n",
       "      <td>55 Cancri e</td>\n",
       "      <td>32.0</td>\n",
       "      <td>False</td>\n",
       "      <td>0.0</td>\n",
       "      <td>1049.0</td>\n",
       "      <td>0.0</td>\n",
       "      <td>353.0</td>\n",
       "      <td>3235.0</td>\n",
       "      <td>Celeon Hontichre</td>\n",
       "      <td>False</td>\n",
       "    </tr>\n",
       "    <tr>\n",
       "      <th>8692</th>\n",
       "      <td>9280_02</td>\n",
       "      <td>Europa</td>\n",
       "      <td>False</td>\n",
       "      <td>E/608/S</td>\n",
       "      <td>TRAPPIST-1e</td>\n",
       "      <td>44.0</td>\n",
       "      <td>False</td>\n",
       "      <td>126.0</td>\n",
       "      <td>4688.0</td>\n",
       "      <td>0.0</td>\n",
       "      <td>0.0</td>\n",
       "      <td>12.0</td>\n",
       "      <td>Propsh Hontichre</td>\n",
       "      <td>True</td>\n",
       "    </tr>\n",
       "  </tbody>\n",
       "</table>\n",
       "<p>8693 rows × 14 columns</p>\n",
       "</div>"
      ],
      "text/plain": [
       "     PassengerId HomePlanet CryoSleep     Cabin    Destination   Age    VIP  \\\n",
       "0        0001_01     Europa     False     B/0/P    TRAPPIST-1e  39.0  False   \n",
       "1        0002_01      Earth     False     F/0/S    TRAPPIST-1e  24.0  False   \n",
       "2        0003_01     Europa     False     A/0/S    TRAPPIST-1e  58.0   True   \n",
       "3        0003_02     Europa     False     A/0/S    TRAPPIST-1e  33.0  False   \n",
       "4        0004_01      Earth     False     F/1/S    TRAPPIST-1e  16.0  False   \n",
       "...          ...        ...       ...       ...            ...   ...    ...   \n",
       "8688     9276_01     Europa     False    A/98/P    55 Cancri e  41.0   True   \n",
       "8689     9278_01      Earth      True  G/1499/S  PSO J318.5-22  18.0  False   \n",
       "8690     9279_01      Earth     False  G/1500/S    TRAPPIST-1e  26.0  False   \n",
       "8691     9280_01     Europa     False   E/608/S    55 Cancri e  32.0  False   \n",
       "8692     9280_02     Europa     False   E/608/S    TRAPPIST-1e  44.0  False   \n",
       "\n",
       "      RoomService  FoodCourt  ShoppingMall     Spa  VRDeck               Name  \\\n",
       "0             0.0        0.0           0.0     0.0     0.0    Maham Ofracculy   \n",
       "1           109.0        9.0          25.0   549.0    44.0       Juanna Vines   \n",
       "2            43.0     3576.0           0.0  6715.0    49.0      Altark Susent   \n",
       "3             0.0     1283.0         371.0  3329.0   193.0       Solam Susent   \n",
       "4           303.0       70.0         151.0   565.0     2.0  Willy Santantines   \n",
       "...           ...        ...           ...     ...     ...                ...   \n",
       "8688          0.0     6819.0           0.0  1643.0    74.0  Gravior Noxnuther   \n",
       "8689          0.0        0.0           0.0     0.0     0.0    Kurta Mondalley   \n",
       "8690          0.0        0.0        1872.0     1.0     0.0       Fayey Connon   \n",
       "8691          0.0     1049.0           0.0   353.0  3235.0   Celeon Hontichre   \n",
       "8692        126.0     4688.0           0.0     0.0    12.0   Propsh Hontichre   \n",
       "\n",
       "      Transported  \n",
       "0           False  \n",
       "1            True  \n",
       "2           False  \n",
       "3           False  \n",
       "4            True  \n",
       "...           ...  \n",
       "8688        False  \n",
       "8689        False  \n",
       "8690         True  \n",
       "8691        False  \n",
       "8692         True  \n",
       "\n",
       "[8693 rows x 14 columns]"
      ]
     },
     "execution_count": 15,
     "metadata": {},
     "output_type": "execute_result"
    }
   ],
   "source": [
    "train"
   ]
  },
  {
   "cell_type": "code",
   "execution_count": 16,
   "id": "0f6385eb",
   "metadata": {},
   "outputs": [],
   "source": [
    "# Going to create a new column named group which contain then''\n",
    "train[\"Group\"] = train.PassengerId.str.split('_',expand=True).rename({0:'Group'},axis=1)['Group']"
   ]
  },
  {
   "cell_type": "code",
   "execution_count": 17,
   "id": "4eedbf6d",
   "metadata": {},
   "outputs": [
    {
     "data": {
      "text/html": [
       "<div>\n",
       "<style scoped>\n",
       "    .dataframe tbody tr th:only-of-type {\n",
       "        vertical-align: middle;\n",
       "    }\n",
       "\n",
       "    .dataframe tbody tr th {\n",
       "        vertical-align: top;\n",
       "    }\n",
       "\n",
       "    .dataframe thead th {\n",
       "        text-align: right;\n",
       "    }\n",
       "</style>\n",
       "<table border=\"1\" class=\"dataframe\">\n",
       "  <thead>\n",
       "    <tr style=\"text-align: right;\">\n",
       "      <th></th>\n",
       "      <th>PassengerId</th>\n",
       "      <th>HomePlanet</th>\n",
       "      <th>CryoSleep</th>\n",
       "      <th>Cabin</th>\n",
       "      <th>Destination</th>\n",
       "      <th>Age</th>\n",
       "      <th>VIP</th>\n",
       "      <th>RoomService</th>\n",
       "      <th>FoodCourt</th>\n",
       "      <th>ShoppingMall</th>\n",
       "      <th>Spa</th>\n",
       "      <th>VRDeck</th>\n",
       "      <th>Name</th>\n",
       "      <th>Transported</th>\n",
       "      <th>Group</th>\n",
       "    </tr>\n",
       "  </thead>\n",
       "  <tbody>\n",
       "    <tr>\n",
       "      <th>0</th>\n",
       "      <td>0001_01</td>\n",
       "      <td>Europa</td>\n",
       "      <td>False</td>\n",
       "      <td>B/0/P</td>\n",
       "      <td>TRAPPIST-1e</td>\n",
       "      <td>39.0</td>\n",
       "      <td>False</td>\n",
       "      <td>0.0</td>\n",
       "      <td>0.0</td>\n",
       "      <td>0.0</td>\n",
       "      <td>0.0</td>\n",
       "      <td>0.0</td>\n",
       "      <td>Maham Ofracculy</td>\n",
       "      <td>False</td>\n",
       "      <td>0001</td>\n",
       "    </tr>\n",
       "    <tr>\n",
       "      <th>1</th>\n",
       "      <td>0002_01</td>\n",
       "      <td>Earth</td>\n",
       "      <td>False</td>\n",
       "      <td>F/0/S</td>\n",
       "      <td>TRAPPIST-1e</td>\n",
       "      <td>24.0</td>\n",
       "      <td>False</td>\n",
       "      <td>109.0</td>\n",
       "      <td>9.0</td>\n",
       "      <td>25.0</td>\n",
       "      <td>549.0</td>\n",
       "      <td>44.0</td>\n",
       "      <td>Juanna Vines</td>\n",
       "      <td>True</td>\n",
       "      <td>0002</td>\n",
       "    </tr>\n",
       "    <tr>\n",
       "      <th>2</th>\n",
       "      <td>0003_01</td>\n",
       "      <td>Europa</td>\n",
       "      <td>False</td>\n",
       "      <td>A/0/S</td>\n",
       "      <td>TRAPPIST-1e</td>\n",
       "      <td>58.0</td>\n",
       "      <td>True</td>\n",
       "      <td>43.0</td>\n",
       "      <td>3576.0</td>\n",
       "      <td>0.0</td>\n",
       "      <td>6715.0</td>\n",
       "      <td>49.0</td>\n",
       "      <td>Altark Susent</td>\n",
       "      <td>False</td>\n",
       "      <td>0003</td>\n",
       "    </tr>\n",
       "    <tr>\n",
       "      <th>3</th>\n",
       "      <td>0003_02</td>\n",
       "      <td>Europa</td>\n",
       "      <td>False</td>\n",
       "      <td>A/0/S</td>\n",
       "      <td>TRAPPIST-1e</td>\n",
       "      <td>33.0</td>\n",
       "      <td>False</td>\n",
       "      <td>0.0</td>\n",
       "      <td>1283.0</td>\n",
       "      <td>371.0</td>\n",
       "      <td>3329.0</td>\n",
       "      <td>193.0</td>\n",
       "      <td>Solam Susent</td>\n",
       "      <td>False</td>\n",
       "      <td>0003</td>\n",
       "    </tr>\n",
       "    <tr>\n",
       "      <th>4</th>\n",
       "      <td>0004_01</td>\n",
       "      <td>Earth</td>\n",
       "      <td>False</td>\n",
       "      <td>F/1/S</td>\n",
       "      <td>TRAPPIST-1e</td>\n",
       "      <td>16.0</td>\n",
       "      <td>False</td>\n",
       "      <td>303.0</td>\n",
       "      <td>70.0</td>\n",
       "      <td>151.0</td>\n",
       "      <td>565.0</td>\n",
       "      <td>2.0</td>\n",
       "      <td>Willy Santantines</td>\n",
       "      <td>True</td>\n",
       "      <td>0004</td>\n",
       "    </tr>\n",
       "  </tbody>\n",
       "</table>\n",
       "</div>"
      ],
      "text/plain": [
       "  PassengerId HomePlanet CryoSleep  Cabin  Destination   Age    VIP  \\\n",
       "0     0001_01     Europa     False  B/0/P  TRAPPIST-1e  39.0  False   \n",
       "1     0002_01      Earth     False  F/0/S  TRAPPIST-1e  24.0  False   \n",
       "2     0003_01     Europa     False  A/0/S  TRAPPIST-1e  58.0   True   \n",
       "3     0003_02     Europa     False  A/0/S  TRAPPIST-1e  33.0  False   \n",
       "4     0004_01      Earth     False  F/1/S  TRAPPIST-1e  16.0  False   \n",
       "\n",
       "   RoomService  FoodCourt  ShoppingMall     Spa  VRDeck               Name  \\\n",
       "0          0.0        0.0           0.0     0.0     0.0    Maham Ofracculy   \n",
       "1        109.0        9.0          25.0   549.0    44.0       Juanna Vines   \n",
       "2         43.0     3576.0           0.0  6715.0    49.0      Altark Susent   \n",
       "3          0.0     1283.0         371.0  3329.0   193.0       Solam Susent   \n",
       "4        303.0       70.0         151.0   565.0     2.0  Willy Santantines   \n",
       "\n",
       "   Transported Group  \n",
       "0        False  0001  \n",
       "1         True  0002  \n",
       "2        False  0003  \n",
       "3        False  0003  \n",
       "4         True  0004  "
      ]
     },
     "execution_count": 17,
     "metadata": {},
     "output_type": "execute_result"
    }
   ],
   "source": [
    "train.head()"
   ]
  },
  {
   "cell_type": "code",
   "execution_count": 18,
   "id": "82c0a6e0",
   "metadata": {},
   "outputs": [
    {
     "data": {
      "text/plain": [
       "Earth     4602\n",
       "Europa    2131\n",
       "Mars      1759\n",
       "Name: HomePlanet, dtype: int64"
      ]
     },
     "execution_count": 18,
     "metadata": {},
     "output_type": "execute_result"
    }
   ],
   "source": [
    "train['HomePlanet'].value_counts()"
   ]
  },
  {
   "cell_type": "code",
   "execution_count": 19,
   "id": "e2abfd53",
   "metadata": {},
   "outputs": [
    {
     "data": {
      "image/png": "[encoded data removed]",
      "text/plain": [
       "<Figure size 1000x500 with 2 Axes>"
      ]
     },
     "metadata": {},
     "output_type": "display_data"
    }
   ],
   "source": [
    "plt.figure(figsize=(10, 5))\n",
    "plt.subplot(1,2, 1)\n",
    "plt.pie(train['HomePlanet'].value_counts(), labels=train['HomePlanet'].value_counts().index, autopct='%1.1f%%')\n",
    "plt.title('Distribution of HomePlanets')\n",
    "\n",
    "# Plotting count plot\n",
    "plt.subplot(1, 2, 2)\n",
    "sns.countplot(x=train['HomePlanet'])\n",
    "plt.title('Count of HomePlanets')\n",
    "\n",
    "# Adjust layout and show plot\n",
    "plt.tight_layout()\n",
    "plt.show()"
   ]
  },
  {
   "cell_type": "code",
   "execution_count": 20,
   "id": "87a108b5",
   "metadata": {},
   "outputs": [
    {
     "name": "stdout",
     "output_type": "stream",
     "text": [
      "<class 'pandas.core.frame.DataFrame'>\n",
      "RangeIndex: 8693 entries, 0 to 8692\n",
      "Data columns (total 15 columns):\n",
      " #   Column        Non-Null Count  Dtype  \n",
      "---  ------        --------------  -----  \n",
      " 0   PassengerId   8693 non-null   object \n",
      " 1   HomePlanet    8492 non-null   object \n",
      " 2   CryoSleep     8476 non-null   object \n",
      " 3   Cabin         8494 non-null   object \n",
      " 4   Destination   8511 non-null   object \n",
      " 5   Age           8514 non-null   float64\n",
      " 6   VIP           8490 non-null   object \n",
      " 7   RoomService   8512 non-null   float64\n",
      " 8   FoodCourt     8510 non-null   float64\n",
      " 9   ShoppingMall  8485 non-null   float64\n",
      " 10  Spa           8510 non-null   float64\n",
      " 11  VRDeck        8505 non-null   float64\n",
      " 12  Name          8493 non-null   object \n",
      " 13  Transported   8693 non-null   bool   \n",
      " 14  Group         8693 non-null   object \n",
      "dtypes: bool(1), float64(6), object(8)\n",
      "memory usage: 959.4+ KB\n"
     ]
    }
   ],
   "source": [
    "train.info()"
   ]
  },
  {
   "cell_type": "code",
   "execution_count": 21,
   "id": "f83fb98e",
   "metadata": {},
   "outputs": [],
   "source": [
    "# drop PassengerId feature\n",
    "train.drop(columns='PassengerId',inplace=True)"
   ]
  },
  {
   "cell_type": "code",
   "execution_count": 22,
   "id": "a2ac9ff4",
   "metadata": {},
   "outputs": [],
   "source": [
    "# replacing True and false with 1 and 0\n",
    "train['CryoSleep'] = train['CryoSleep'].apply(lambda x:1 if x else 0)"
   ]
  },
  {
   "cell_type": "code",
   "execution_count": 23,
   "id": "98a680de",
   "metadata": {},
   "outputs": [
    {
     "data": {
      "text/plain": [
       "<Axes: xlabel='CryoSleep', ylabel='count'>"
      ]
     },
     "execution_count": 23,
     "metadata": {},
     "output_type": "execute_result"
    },
    {
     "data": {
      "image/png": "[encoded data removed]",
      "text/plain": [
       "<Figure size 640x480 with 1 Axes>"
      ]
     },
     "metadata": {},
     "output_type": "display_data"
    }
   ],
   "source": [
    "# plot bar\n",
    "sns.countplot(x=train['CryoSleep'])"
   ]
  },
  {
   "cell_type": "code",
   "execution_count": 24,
   "id": "98a1228b",
   "metadata": {
    "scrolled": true
   },
   "outputs": [
    {
     "data": {
      "text/plain": [
       "6560"
      ]
     },
     "execution_count": 24,
     "metadata": {},
     "output_type": "execute_result"
    }
   ],
   "source": [
    "# Check num_unique\n",
    "train['Cabin'].nunique()"
   ]
  },
  {
   "cell_type": "code",
   "execution_count": 25,
   "id": "d2e3dd79",
   "metadata": {},
   "outputs": [],
   "source": [
    "# Split the cabin into 3 another features ->  Side,Deck,Cab_num\n",
    "train['Side'] = train['Cabin'].str.split('/',expand=True).iloc[:,2]"
   ]
  },
  {
   "cell_type": "code",
   "execution_count": 26,
   "id": "6e3fb741",
   "metadata": {},
   "outputs": [],
   "source": [
    "train['Deck'] = train['Cabin'].str.split('/',expand=True).iloc[:,0]"
   ]
  },
  {
   "cell_type": "code",
   "execution_count": 27,
   "id": "be312250",
   "metadata": {},
   "outputs": [],
   "source": [
    "train['Cab_num'] = train['Cabin'].str.split('/',expand=True).iloc[:,1]"
   ]
  },
  {
   "cell_type": "code",
   "execution_count": 35,
   "id": "1615b475",
   "metadata": {},
   "outputs": [
    {
     "name": "stdout",
     "output_type": "stream",
     "text": [
      "['F' 'G' nan 'E']\n",
      "['F' 'D' 'E' nan]\n",
      "['B' 'A' 'C' 'D' nan 'E' 'T']\n"
     ]
    }
   ],
   "source": [
    "print(train.groupby('HomePlanet').get_group(\"Earth\")[\"Deck\"].unique())\n",
    "print(train.groupby('HomePlanet').get_group(\"Mars\")[\"Deck\"].unique())\n",
    "print(train.groupby('HomePlanet').get_group(\"Europa\")[\"Deck\"].unique())"
   ]
  },
  {
   "cell_type": "code",
   "execution_count": 52,
   "id": "b0f3b700",
   "metadata": {},
   "outputs": [
    {
     "ename": "KeyError",
     "evalue": "'0013'",
     "output_type": "error",
     "traceback": [
      "\u001b[1;31m---------------------------------------------------------------------------\u001b[0m",
      "\u001b[1;31mKeyError\u001b[0m                                  Traceback (most recent call last)",
      "Cell \u001b[1;32mIn[52], line 1\u001b[0m\n\u001b[1;32m----> 1\u001b[0m train\u001b[38;5;241m.\u001b[39mgroupby(\u001b[38;5;124m'\u001b[39m\u001b[38;5;124mGroup\u001b[39m\u001b[38;5;124m'\u001b[39m)\u001b[38;5;241m.\u001b[39mget_group(\u001b[38;5;124m'\u001b[39m\u001b[38;5;124m0013\u001b[39m\u001b[38;5;124m'\u001b[39m)[\u001b[38;5;124m'\u001b[39m\u001b[38;5;124mSide\u001b[39m\u001b[38;5;124m'\u001b[39m]\n",
      "File \u001b[1;32m~\\anaconda3\\Lib\\site-packages\\pandas\\core\\groupby\\groupby.py:817\u001b[0m, in \u001b[0;36mBaseGroupBy.get_group\u001b[1;34m(self, name, obj)\u001b[0m\n\u001b[0;32m    815\u001b[0m inds \u001b[38;5;241m=\u001b[39m \u001b[38;5;28mself\u001b[39m\u001b[38;5;241m.\u001b[39m_get_index(name)\n\u001b[0;32m    816\u001b[0m \u001b[38;5;28;01mif\u001b[39;00m \u001b[38;5;129;01mnot\u001b[39;00m \u001b[38;5;28mlen\u001b[39m(inds):\n\u001b[1;32m--> 817\u001b[0m     \u001b[38;5;28;01mraise\u001b[39;00m \u001b[38;5;167;01mKeyError\u001b[39;00m(name)\n\u001b[0;32m    819\u001b[0m \u001b[38;5;28;01mreturn\u001b[39;00m obj\u001b[38;5;241m.\u001b[39m_take_with_is_copy(inds, axis\u001b[38;5;241m=\u001b[39m\u001b[38;5;28mself\u001b[39m\u001b[38;5;241m.\u001b[39maxis)\n",
      "\u001b[1;31mKeyError\u001b[0m: '0013'"
     ]
    }
   ],
   "source": [
    "\n",
    "    train.groupby('Group').get_group('0013')['Side']"
   ]
  },
  {
   "cell_type": "code",
   "execution_count": null,
   "id": "d23a02f9",
   "metadata": {},
   "outputs": [],
   "source": [
    "for i in range()"
   ]
  },
  {
   "cell_type": "code",
   "execution_count": null,
   "id": "04e02a2d",
   "metadata": {},
   "outputs": [],
   "source": []
  },
  {
   "cell_type": "code",
   "execution_count": null,
   "id": "490674f5",
   "metadata": {},
   "outputs": [],
   "source": [
    "# Check Sides\n",
    "train['Side'].unique()"
   ]
  },
  {
   "cell_type": "code",
   "execution_count": null,
   "id": "4cd83e94",
   "metadata": {},
   "outputs": [],
   "source": [
    "# Check Deck\n",
    "train['Deck'].unique()"
   ]
  },
  {
   "cell_type": "code",
   "execution_count": null,
   "id": "b34b64d7",
   "metadata": {},
   "outputs": [],
   "source": [
    "# Check Cab_num\n",
    "train['Cab_num'].nunique()"
   ]
  },
  {
   "cell_type": "code",
   "execution_count": null,
   "id": "5358766f",
   "metadata": {},
   "outputs": [],
   "source": [
    "#Check value counts in sides\n",
    "train['Side'].value_counts()"
   ]
  },
  {
   "cell_type": "code",
   "execution_count": null,
   "id": "677c42bf",
   "metadata": {},
   "outputs": [],
   "source": [
    "plt.figure(figsize=(3,4))\n",
    "sns.countplot(x=train['Side'])"
   ]
  },
  {
   "cell_type": "markdown",
   "id": "13804efa",
   "metadata": {},
   "source": [
    "they have eqaul number people in both sides"
   ]
  },
  {
   "cell_type": "code",
   "execution_count": null,
   "id": "5591fa30",
   "metadata": {},
   "outputs": [],
   "source": [
    "labels = train['Deck'].value_counts().index"
   ]
  },
  {
   "cell_type": "code",
   "execution_count": null,
   "id": "5cc0b7ac",
   "metadata": {},
   "outputs": [],
   "source": [
    "train['Deck'].value_counts()"
   ]
  },
  {
   "cell_type": "code",
   "execution_count": null,
   "id": "f8159b74",
   "metadata": {},
   "outputs": [],
   "source": [
    "plt.figure(figsize=(10,7))\n",
    "plt.pie(train['Deck'].value_counts(),autopct='%1.1f%%',labels=labels)\n",
    "plt.legend()\n",
    "plt.show()"
   ]
  },
  {
   "cell_type": "code",
   "execution_count": null,
   "id": "85eea266",
   "metadata": {},
   "outputs": [],
   "source": [
    "train['Destination'].unique()"
   ]
  },
  {
   "cell_type": "code",
   "execution_count": null,
   "id": "21d55496",
   "metadata": {},
   "outputs": [],
   "source": [
    "labels = train['Destination'].value_counts().index"
   ]
  },
  {
   "cell_type": "code",
   "execution_count": null,
   "id": "1af7aa96",
   "metadata": {},
   "outputs": [],
   "source": [
    "plt.figure(figsize=(10,7))\n",
    "plt.pie(train['Destination'].value_counts(),autopct='%1.1f%%',labels=labels)\n",
    "plt.legend()\n",
    "plt.show()"
   ]
  },
  {
   "cell_type": "code",
   "execution_count": null,
   "id": "f37f5aaf",
   "metadata": {},
   "outputs": [],
   "source": [
    "# Age value distribution\n",
    "sns.histplot(x=train['Age'])"
   ]
  },
  {
   "cell_type": "code",
   "execution_count": null,
   "id": "87953ace",
   "metadata": {},
   "outputs": [],
   "source": [
    "# Age feature box plot\n",
    "plt.figure(figsize=(5,3))\n",
    "sns.boxplot(x=train['Age'],orient='h')"
   ]
  },
  {
   "cell_type": "code",
   "execution_count": null,
   "id": "97117623",
   "metadata": {},
   "outputs": [],
   "source": [
    "# Age feature contain many outlires"
   ]
  },
  {
   "cell_type": "code",
   "execution_count": null,
   "id": "58a8bc0c",
   "metadata": {},
   "outputs": [],
   "source": [
    "# replace vip true false to 0,1\n",
    "train['VIP'] = np.where(train['VIP'],1,0)"
   ]
  },
  {
   "cell_type": "code",
   "execution_count": null,
   "id": "b0319748",
   "metadata": {},
   "outputs": [],
   "source": [
    "train['VIP'].value_counts().index"
   ]
  },
  {
   "cell_type": "code",
   "execution_count": null,
   "id": "f2fefbc0",
   "metadata": {},
   "outputs": [],
   "source": [
    "# plot Vips\n",
    "plt.pie(x=train['VIP'].value_counts(),autopct=\"%1.1f%%\")\n",
    "plt.show()"
   ]
  },
  {
   "cell_type": "markdown",
   "id": "c0c94964",
   "metadata": {},
   "source": [
    "95% percentage people are non VIP"
   ]
  },
  {
   "cell_type": "code",
   "execution_count": null,
   "id": "7b329b38",
   "metadata": {},
   "outputs": [],
   "source": [
    "train"
   ]
  },
  {
   "cell_type": "code",
   "execution_count": null,
   "id": "785ec64d",
   "metadata": {},
   "outputs": [],
   "source": [
    "train[\"FoodCourt\"].fillna(0,inplace=True)\n",
    "train[\"RoomService\"].fillna(0,inplace=True)\n",
    "train[\"ShoppingMall\"].fillna(0,inplace=True)\n",
    "train[\"Spa\"].fillna(0,inplace=True)"
   ]
  },
  {
   "cell_type": "code",
   "execution_count": null,
   "id": "2be9b8d0",
   "metadata": {},
   "outputs": [],
   "source": [
    "# Create new Feature named Totel Expensce that adds up each amenties\n",
    "train['Total_Expances'] = train[\"RoomService\"] + train['FoodCourt'] + train['ShoppingMall'] + train['VRDeck'] + train['Spa']"
   ]
  },
  {
   "cell_type": "code",
   "execution_count": null,
   "id": "23eb78f6",
   "metadata": {},
   "outputs": [],
   "source": [
    "# Hist plot\n",
    "sns.histplot(x=train['Total_Expances'],kde=True)"
   ]
  },
  {
   "cell_type": "code",
   "execution_count": null,
   "id": "990f7557",
   "metadata": {},
   "outputs": [],
   "source": [
    "# cehck expenses Outliers\n",
    "sns.boxplot(x=train['Total_Expances'])"
   ]
  },
  {
   "cell_type": "code",
   "execution_count": null,
   "id": "10667931",
   "metadata": {},
   "outputs": [],
   "source": [
    "train.drop(columns=[\"RoomService\",\"FoodCourt\",\"ShoppingMall\",\"Spa\",'VRDeck',\"Name\"],inplace=True)"
   ]
  },
  {
   "cell_type": "code",
   "execution_count": null,
   "id": "a825d8da",
   "metadata": {},
   "outputs": [],
   "source": [
    "train"
   ]
  },
  {
   "cell_type": "code",
   "execution_count": null,
   "id": "f140b6bc",
   "metadata": {},
   "outputs": [],
   "source": [
    "train['Transported'] = train['Transported'].apply(lambda x:1 if x else 0)"
   ]
  },
  {
   "cell_type": "code",
   "execution_count": null,
   "id": "5d1c408f",
   "metadata": {},
   "outputs": [],
   "source": [
    "# hmm there are almost equal number of transpored people and non-transported\n",
    "train['Transported'].value_counts()"
   ]
  },
  {
   "cell_type": "markdown",
   "id": "33094742",
   "metadata": {},
   "source": [
    "## Multivarient analysis"
   ]
  },
  {
   "cell_type": "code",
   "execution_count": null,
   "id": "68c54fee",
   "metadata": {},
   "outputs": [],
   "source": [
    "# groupby HomePlanet then analyse each column and especially with target cols\n",
    "grp_home = train.groupby('HomePlanet')"
   ]
  },
  {
   "cell_type": "code",
   "execution_count": null,
   "id": "91d1486f",
   "metadata": {},
   "outputs": [],
   "source": [
    "grp_home.count()"
   ]
  },
  {
   "cell_type": "code",
   "execution_count": null,
   "id": "579811cf",
   "metadata": {},
   "outputs": [],
   "source": [
    "# most people are from earth"
   ]
  },
  {
   "cell_type": "code",
   "execution_count": null,
   "id": "1f4c0824",
   "metadata": {},
   "outputs": [],
   "source": [
    "grp_home.sum(numeric_only=True)"
   ]
  },
  {
   "cell_type": "markdown",
   "id": "4f2ab3ba",
   "metadata": {},
   "source": [
    "- Europa got more vips \n",
    "- europa got more totel_expenses"
   ]
  },
  {
   "cell_type": "code",
   "execution_count": null,
   "id": "0905bd34",
   "metadata": {},
   "outputs": [],
   "source": [
    "vips_earth = 115\n",
    "vips_europa = 173\n",
    "vips_Mars = 106"
   ]
  },
  {
   "cell_type": "code",
   "execution_count": null,
   "id": "9554b227",
   "metadata": {},
   "outputs": [],
   "source": [
    "# percenage of vips from earth\n",
    "vips_earth/train['HomePlanet'].value_counts()[0]*100"
   ]
  },
  {
   "cell_type": "code",
   "execution_count": null,
   "id": "4bba64b4",
   "metadata": {},
   "outputs": [],
   "source": [
    "# percenage of vips from Europa\n",
    "(vips_europa/train['HomePlanet'].value_counts()[1])*100"
   ]
  },
  {
   "cell_type": "code",
   "execution_count": null,
   "id": "c0c197e2",
   "metadata": {},
   "outputs": [],
   "source": [
    "# percenage of vips from Mars\n",
    "vips_Mars/train['HomePlanet'].value_counts()[2]*100"
   ]
  },
  {
   "cell_type": "code",
   "execution_count": null,
   "id": "9a7d19b8",
   "metadata": {},
   "outputs": [],
   "source": [
    "# taking count of the people from each planet\n",
    "ppl_frm_earth = train['HomePlanet'].value_counts()[0]\n",
    "ppl_frm_europa = train['HomePlanet'].value_counts()[1]\n",
    "ppl_frm_mars = train['HomePlanet'].value_counts()[2]"
   ]
  },
  {
   "cell_type": "code",
   "execution_count": null,
   "id": "c66d4d06",
   "metadata": {},
   "outputs": [],
   "source": [
    "# Creating a seires of planet and the percentage of people transported from each planet\n",
    "perc_ppl_trsptd = grp_home.sum(numeric_only=True)['Transported']/[ppl_frm_earth,ppl_frm_europa,ppl_frm_mars]*100"
   ]
  },
  {
   "cell_type": "code",
   "execution_count": null,
   "id": "7545c6fd",
   "metadata": {},
   "outputs": [],
   "source": [
    "# converted into Datafram\n",
    "perc_ppl_trsptd = perc_ppl_trsptd.reset_index().rename(columns={'Transported':\"perc_Transported\"})"
   ]
  },
  {
   "cell_type": "code",
   "execution_count": null,
   "id": "a9b71813",
   "metadata": {},
   "outputs": [],
   "source": [
    "perc_ppl_trsptd"
   ]
  },
  {
   "cell_type": "code",
   "execution_count": null,
   "id": "2de6e8a4",
   "metadata": {},
   "outputs": [],
   "source": [
    "plt.bar(perc_ppl_trsptd['HomePlanet'],perc_ppl_trsptd['perc_Transported'],color=['blue','green','red'])\n",
    "plt.xlabel('HomePlanet')\n",
    "plt.ylabel('Percentage')\n",
    "plt.title(\"Percentage Of Transportation in each HomePlanet\")\n",
    "plt.show()"
   ]
  },
  {
   "cell_type": "code",
   "execution_count": null,
   "id": "64e3a458",
   "metadata": {},
   "outputs": [],
   "source": [
    "# Most of the transportation are from Europa and then mars lastly earth "
   ]
  },
  {
   "cell_type": "code",
   "execution_count": null,
   "id": "0a0c4729",
   "metadata": {},
   "outputs": [],
   "source": [
    "sns.violinplot(y=train['Transported'],x=train['HomePlanet'])"
   ]
  },
  {
   "cell_type": "code",
   "execution_count": null,
   "id": "d800c3f5",
   "metadata": {},
   "outputs": [],
   "source": [
    "#as we can see the number of people transported is high in Europa and slightly in Mars also but not in Earth , it is less "
   ]
  },
  {
   "cell_type": "code",
   "execution_count": null,
   "id": "4047fcd1",
   "metadata": {},
   "outputs": [],
   "source": [
    "train.drop(columns='Cabin',inplace=True)"
   ]
  },
  {
   "cell_type": "code",
   "execution_count": null,
   "id": "f4ea5ed4",
   "metadata": {},
   "outputs": [],
   "source": [
    "#Now check which Home planet is using cryoSleep more\n",
    "(grp_home.mean(numeric_only=True)['CryoSleep'])*100"
   ]
  },
  {
   "cell_type": "markdown",
   "id": "98b7592a",
   "metadata": {},
   "source": [
    "- by count earth bhave more people in cryo sleep obviously cuz more people are from earth\n",
    "- by percentage we can see 45% of people from Europa have used cryo sleep\n",
    "- then Mars and lasltly with 32% earth"
   ]
  },
  {
   "cell_type": "code",
   "execution_count": null,
   "id": "2592d6c3",
   "metadata": {},
   "outputs": [],
   "source": [
    "train.groupby(['HomePlanet','CryoSleep']).sum(numeric_only=True)['Transported']"
   ]
  },
  {
   "cell_type": "markdown",
   "id": "4635c70f",
   "metadata": {},
   "source": [
    "- Most of the people from Europa and mars who transported are the people in cryoSleep\n",
    "- but not in earth"
   ]
  },
  {
   "cell_type": "code",
   "execution_count": null,
   "id": "3280f53c",
   "metadata": {},
   "outputs": [],
   "source": [
    "sns.barplot(data=train,x=\"HomePlanet\",y='Age')"
   ]
  },
  {
   "cell_type": "code",
   "execution_count": null,
   "id": "6f8a1f16",
   "metadata": {},
   "outputs": [],
   "source": [
    "# Max age from from each Planet\n",
    "grp_home.max(numeric_only=True)['Age']"
   ]
  },
  {
   "cell_type": "code",
   "execution_count": null,
   "id": "fcca900d",
   "metadata": {},
   "outputs": [],
   "source": [
    "train.groupby(['HomePlanet','Destination']).sum(numeric_only=True)['Transported']"
   ]
  },
  {
   "cell_type": "markdown",
   "id": "fc5870d5",
   "metadata": {},
   "source": [
    "- Most of the people who transported where going to TRAPPIST-1e\n",
    "- Then  55 Cancri e in europa and mars but not in earth\n",
    "- then PSO J318.5-22 is place where less people transported in mars and europa not in earth"
   ]
  },
  {
   "cell_type": "code",
   "execution_count": null,
   "id": "8017001f",
   "metadata": {},
   "outputs": [],
   "source": [
    "train.groupby(['HomePlanet','Destination']).sum(numeric_only=True)['CryoSleep']"
   ]
  },
  {
   "cell_type": "markdown",
   "id": "00b5fb56",
   "metadata": {},
   "source": [
    "- hmm they are puting people more in cryo sleep when they go TRAPPIST-1e"
   ]
  },
  {
   "cell_type": "code",
   "execution_count": null,
   "id": "411f913a",
   "metadata": {},
   "outputs": [],
   "source": [
    "plt.figure(figsize=(5,5))\n",
    "\n",
    "sns.violinplot(x=train['CryoSleep'],y=train['Transported'])"
   ]
  },
  {
   "cell_type": "markdown",
   "id": "4f28f5c1",
   "metadata": {},
   "source": [
    "- As we can clearly see that most of the people who transported are people who who are in cryosleep"
   ]
  },
  {
   "cell_type": "code",
   "execution_count": null,
   "id": "905e5881",
   "metadata": {},
   "outputs": [],
   "source": [
    "sns.violinplot(y=train['Destination'],x=train['CryoSleep'])"
   ]
  },
  {
   "cell_type": "code",
   "execution_count": null,
   "id": "5786a277",
   "metadata": {},
   "outputs": [],
   "source": [
    "train.groupby(['CryoSleep','Destination']).sum()"
   ]
  },
  {
   "cell_type": "code",
   "execution_count": null,
   "id": "e8c199e1",
   "metadata": {},
   "outputs": [],
   "source": [
    "sns.violinplot(x=train['Transported'],y=train['Age'])"
   ]
  },
  {
   "cell_type": "code",
   "execution_count": null,
   "id": "81fcf7b7",
   "metadata": {},
   "outputs": [],
   "source": [
    "sns.barplot(x=train['Transported'],y=train['Age'])"
   ]
  },
  {
   "cell_type": "code",
   "execution_count": null,
   "id": "e3b6ce87",
   "metadata": {},
   "outputs": [],
   "source": [
    "from sklearn.preprocessing import KBinsDiscretizer\n",
    "from sklearn.pipeline import Pipeline\n",
    "from sklearn.compose import ColumnTransformer\n",
    "from sklearn.impute import SimpleImputer"
   ]
  },
  {
   "cell_type": "code",
   "execution_count": null,
   "id": "69ed35a8",
   "metadata": {},
   "outputs": [],
   "source": [
    "binning = KBinsDiscretizer(n_bins=4,strategy=\"uniform\")"
   ]
  },
  {
   "cell_type": "code",
   "execution_count": null,
   "id": "12c1db89",
   "metadata": {},
   "outputs": [],
   "source": [
    "sns.violinplot(x=train['VIP'],y=train['Transported'])"
   ]
  },
  {
   "cell_type": "code",
   "execution_count": null,
   "id": "649ca152",
   "metadata": {},
   "outputs": [],
   "source": [
    "train.groupby('VIP').sum()['Transported']"
   ]
  },
  {
   "cell_type": "code",
   "execution_count": null,
   "id": "a4302a20",
   "metadata": {},
   "outputs": [],
   "source": [
    "180/train['VIP'].sum()*100"
   ]
  },
  {
   "cell_type": "code",
   "execution_count": null,
   "id": "98d831aa",
   "metadata": {},
   "outputs": [],
   "source": [
    "# in Destination we can as people goes in group same group will go to same place i think we can use ffill or bfill here\n",
    "# Like wise in HomePlanet\n",
    "train.sample(10)"
   ]
  },
  {
   "cell_type": "code",
   "execution_count": null,
   "id": "009dc6db",
   "metadata": {},
   "outputs": [],
   "source": [
    "train.isnull().any(axis=1).sum()"
   ]
  },
  {
   "cell_type": "code",
   "execution_count": null,
   "id": "0a790977",
   "metadata": {},
   "outputs": [],
   "source": [
    "train.isnull().all(axis=0).sum()"
   ]
  },
  {
   "cell_type": "code",
   "execution_count": null,
   "id": "7f688093",
   "metadata": {},
   "outputs": [],
   "source": [
    "train.isnull().any(axis=1).sum()"
   ]
  },
  {
   "cell_type": "code",
   "execution_count": null,
   "id": "97e5c72a",
   "metadata": {},
   "outputs": [],
   "source": [
    "train['HomePlanet'].dtype == 'O'"
   ]
  },
  {
   "cell_type": "code",
   "execution_count": null,
   "id": "68885450",
   "metadata": {},
   "outputs": [],
   "source": [
    "ffill_features = [feature for feature in train.columns if train[feature].isnull().any() if train[feature].dtype == 'O']\n",
    "ffill_features.pop()\n",
    "ffill_features"
   ]
  },
  {
   "cell_type": "code",
   "execution_count": null,
   "id": "dd01ac7c",
   "metadata": {},
   "outputs": [],
   "source": [
    "def ffill_col(df,Features):\n",
    "   for feature in Features:\n",
    "      df[feature] =  df[feature].ffill()\n",
    "   return df"
   ]
  },
  {
   "cell_type": "code",
   "execution_count": null,
   "id": "e88a3177",
   "metadata": {},
   "outputs": [],
   "source": [
    "train = ffill_col(train,ffill_features)"
   ]
  },
  {
   "cell_type": "code",
   "execution_count": null,
   "id": "214cfe01",
   "metadata": {},
   "outputs": [],
   "source": [
    "train.isnull().sum()"
   ]
  },
  {
   "cell_type": "code",
   "execution_count": null,
   "id": "d2e31733",
   "metadata": {},
   "outputs": [],
   "source": [
    "train.drop(columns='Cab_num',inplace=True)"
   ]
  },
  {
   "cell_type": "code",
   "execution_count": null,
   "id": "a0e16a4a",
   "metadata": {},
   "outputs": [],
   "source": [
    "train"
   ]
  },
  {
   "cell_type": "code",
   "execution_count": null,
   "id": "deac7816",
   "metadata": {},
   "outputs": [],
   "source": [
    "# taking the count of people in each group we can create new col people who travel with other people or sigle"
   ]
  },
  {
   "cell_type": "code",
   "execution_count": null,
   "id": "27b7c674",
   "metadata": {},
   "outputs": [],
   "source": [
    " num_grp_memb = train.groupby('Group').count()['HomePlanet'].reset_index().rename({'HomePlanet':'Num Grp Members'},axis=1)"
   ]
  },
  {
   "cell_type": "code",
   "execution_count": null,
   "id": "2c4288cd",
   "metadata": {},
   "outputs": [],
   "source": [
    "train = train.merge(num_grp_memb,on='Group')"
   ]
  },
  {
   "cell_type": "code",
   "execution_count": null,
   "id": "714918ba",
   "metadata": {},
   "outputs": [],
   "source": [
    "#train.drop(columns='no_group Members',axis=1,inplace=True)"
   ]
  },
  {
   "cell_type": "code",
   "execution_count": null,
   "id": "ed720da3",
   "metadata": {},
   "outputs": [],
   "source": [
    "train"
   ]
  },
  {
   "cell_type": "code",
   "execution_count": null,
   "id": "f5340e7d",
   "metadata": {},
   "outputs": [],
   "source": [
    "train.groupby('Side').count()"
   ]
  },
  {
   "cell_type": "code",
   "execution_count": null,
   "id": "eae6a235",
   "metadata": {},
   "outputs": [],
   "source": [
    "train.isna().sum()"
   ]
  },
  {
   "cell_type": "code",
   "execution_count": null,
   "id": "5e144697",
   "metadata": {},
   "outputs": [],
   "source": [
    "train.groupby('Deck').count()"
   ]
  },
  {
   "cell_type": "code",
   "execution_count": null,
   "id": "ba8b4814",
   "metadata": {},
   "outputs": [],
   "source": [
    "train.groupby('Deck').sum(numeric_only=True)['Transported'].plot(kind='bar')\n",
    "plt.xlabel('Deck')\n",
    "plt.ylabel(\"Transported\")\n",
    "plt.show()"
   ]
  },
  {
   "cell_type": "code",
   "execution_count": null,
   "id": "68385c06",
   "metadata": {},
   "outputs": [],
   "source": [
    "train"
   ]
  },
  {
   "cell_type": "code",
   "execution_count": null,
   "id": "946598da",
   "metadata": {},
   "outputs": [],
   "source": [
    " drop_index = train[(train['Age'].isnull()) & (train['Total_Expances'].isnull())].index"
   ]
  },
  {
   "cell_type": "code",
   "execution_count": null,
   "id": "09482686",
   "metadata": {},
   "outputs": [],
   "source": [
    "train.drop(index=drop_index,inplace=True)"
   ]
  },
  {
   "cell_type": "code",
   "execution_count": null,
   "id": "39f50260",
   "metadata": {},
   "outputs": [],
   "source": [
    "from sklearn.impute import KNNImputer"
   ]
  },
  {
   "cell_type": "code",
   "execution_count": null,
   "id": "678e6bad",
   "metadata": {},
   "outputs": [],
   "source": [
    "# print(KNNImputer.__doc__)"
   ]
  },
  {
   "cell_type": "code",
   "execution_count": null,
   "id": "40f6ba26",
   "metadata": {},
   "outputs": [],
   "source": [
    "train.drop(columns='Group',inplace=True)"
   ]
  },
  {
   "cell_type": "code",
   "execution_count": null,
   "id": "3b2fb1c3",
   "metadata": {},
   "outputs": [],
   "source": [
    "from sklearn.preprocessing import OneHotEncoder"
   ]
  },
  {
   "cell_type": "code",
   "execution_count": null,
   "id": "f6a6af42",
   "metadata": {},
   "outputs": [],
   "source": [
    "train.isnull().sum()"
   ]
  },
  {
   "cell_type": "code",
   "execution_count": null,
   "id": "c645ce37",
   "metadata": {},
   "outputs": [],
   "source": [
    "train.isna().sum()"
   ]
  },
  {
   "cell_type": "code",
   "execution_count": null,
   "id": "7e8acaae",
   "metadata": {},
   "outputs": [],
   "source": []
  },
  {
   "cell_type": "code",
   "execution_count": null,
   "id": "90ac2e2d",
   "metadata": {},
   "outputs": [],
   "source": [
    "# k = KBinsDiscretizer(n_bins=6,strategy=\"uniform\",encode='ordinal')"
   ]
  },
  {
   "cell_type": "code",
   "execution_count": null,
   "id": "2411f1c5",
   "metadata": {},
   "outputs": [],
   "source": [
    "# k.fit_transform(train[['Total_Expances']])"
   ]
  },
  {
   "cell_type": "code",
   "execution_count": null,
   "id": "26ca7155",
   "metadata": {},
   "outputs": [],
   "source": [
    "# k_fit = train[['Total_Expances']].fillna(0)"
   ]
  },
  {
   "cell_type": "code",
   "execution_count": null,
   "id": "085eff1d",
   "metadata": {},
   "outputs": [],
   "source": [
    "# k.fit_transform(k_fit)"
   ]
  },
  {
   "cell_type": "code",
   "execution_count": null,
   "id": "401bff58",
   "metadata": {},
   "outputs": [],
   "source": [
    "# k.bin_edges_"
   ]
  },
  {
   "cell_type": "code",
   "execution_count": null,
   "id": "8540254b",
   "metadata": {},
   "outputs": [],
   "source": [
    "sns.boxplot(train['Total_Expances'])"
   ]
  },
  {
   "cell_type": "code",
   "execution_count": null,
   "id": "bf26597d",
   "metadata": {},
   "outputs": [],
   "source": [
    "sns.histplot(train['Total_Expances'],bins=50)"
   ]
  },
  {
   "cell_type": "code",
   "execution_count": null,
   "id": "e48e56ff",
   "metadata": {},
   "outputs": [],
   "source": [
    "def binnigs(x):\n",
    "    if x == 0:\n",
    "        return \"No expense\"\n",
    "    if x>0 and x <= 4500:\n",
    "        return \"under 4500\"\n",
    "    elif x > 4500 and x < 7500:\n",
    "        return \"4500 - 7500\"\n",
    "    elif x > 7500 and x< 13000:\n",
    "        return \"7500 - 1300\"\n",
    "    else:\n",
    "        return \"above 1300\""
   ]
  },
  {
   "cell_type": "code",
   "execution_count": null,
   "id": "68638674",
   "metadata": {},
   "outputs": [],
   "source": [
    "train['exp_bins'] = train['Total_Expances'].apply(binnigs)"
   ]
  },
  {
   "cell_type": "code",
   "execution_count": null,
   "id": "8894e840",
   "metadata": {},
   "outputs": [],
   "source": [
    "train.drop(columns='Total_Expances',inplace=True)"
   ]
  },
  {
   "cell_type": "code",
   "execution_count": null,
   "id": "01da4068",
   "metadata": {},
   "outputs": [],
   "source": [
    "age_pipe = Pipeline(steps=[\n",
    "    ('age_impute',SimpleImputer(strategy='median')),\n",
    "    ('age_binning',KBinsDiscretizer(n_bins=4,strategy=\"uniform\",encode='ordinal'))\n",
    "                          ])"
   ]
  },
  {
   "cell_type": "code",
   "execution_count": null,
   "id": "1868f95c",
   "metadata": {},
   "outputs": [],
   "source": [
    "trf = ColumnTransformer(transformers=[\n",
    "    ('age',age_pipe,[3]),\n",
    "    ('ohe',OneHotEncoder(sparse_output=False,drop='first'),[0,2,5,6,8])\n",
    "],remainder='passthrough')"
   ]
  },
  {
   "cell_type": "code",
   "execution_count": null,
   "id": "87d19b3c",
   "metadata": {},
   "outputs": [],
   "source": [
    "X,y = train.drop(columns='Transported'),train['Transported']"
   ]
  },
  {
   "cell_type": "code",
   "execution_count": null,
   "id": "202b6c1f",
   "metadata": {},
   "outputs": [],
   "source": [
    "X.head()"
   ]
  },
  {
   "cell_type": "code",
   "execution_count": null,
   "id": "c86dbd94",
   "metadata": {},
   "outputs": [],
   "source": [
    "y"
   ]
  },
  {
   "cell_type": "code",
   "execution_count": null,
   "id": "44ecffda",
   "metadata": {},
   "outputs": [],
   "source": [
    "pd.DataFrame(trf.fit_transform(X),columns=trf.get_feature_names_out())"
   ]
  },
  {
   "cell_type": "code",
   "execution_count": null,
   "id": "ebbc9c2d",
   "metadata": {},
   "outputs": [],
   "source": [
    "X = trf.fit_transform(X)"
   ]
  },
  {
   "cell_type": "code",
   "execution_count": null,
   "id": "940caf7c",
   "metadata": {},
   "outputs": [],
   "source": [
    "from sklearn.model_selection import cross_val_score\n",
    "from sklearn.tree import DecisionTreeClassifier\n",
    "from sklearn.model_selection import GridSearchCV,RandomizedSearchCV\n",
    "from sklearn.ensemble import AdaBoostClassifier,BaggingClassifier,ExtraTreesClassifier,HistGradientBoostingClassifier,RandomForestClassifier"
   ]
  },
  {
   "cell_type": "code",
   "execution_count": null,
   "id": "86e7b30c",
   "metadata": {},
   "outputs": [],
   "source": [
    "cross_val_score(DecisionTreeClassifier(),X,y,cv=5)"
   ]
  },
  {
   "cell_type": "code",
   "execution_count": null,
   "id": "cb34bda3",
   "metadata": {},
   "outputs": [],
   "source": [
    "DecisionTreeClassifier().get_params()"
   ]
  },
  {
   "cell_type": "code",
   "execution_count": null,
   "id": "8fc37693",
   "metadata": {},
   "outputs": [],
   "source": [
    "params = {\n",
    " 'max_depth': [10,15,20,30],\n",
    " 'max_leaf_nodes': [30,50,70,100,150],\n",
    " 'splitter': ['best','random']}"
   ]
  },
  {
   "cell_type": "code",
   "execution_count": null,
   "id": "f3eb5a07",
   "metadata": {},
   "outputs": [],
   "source": [
    "hyp = GridSearchCV(DecisionTreeClassifier(),param_grid=params,cv=5)"
   ]
  },
  {
   "cell_type": "code",
   "execution_count": null,
   "id": "91bca124",
   "metadata": {},
   "outputs": [],
   "source": [
    "hyp.fit(X,y)"
   ]
  },
  {
   "cell_type": "code",
   "execution_count": null,
   "id": "289c797c",
   "metadata": {},
   "outputs": [],
   "source": [
    "hyp.best_score_"
   ]
  },
  {
   "cell_type": "code",
   "execution_count": null,
   "id": "3064092e",
   "metadata": {},
   "outputs": [],
   "source": [
    "hyp.cv_results_"
   ]
  },
  {
   "cell_type": "code",
   "execution_count": null,
   "id": "60a753a6",
   "metadata": {},
   "outputs": [],
   "source": [
    "DecisionTreeClassifier().get_params()"
   ]
  },
  {
   "cell_type": "code",
   "execution_count": null,
   "id": "cc7f99fb",
   "metadata": {},
   "outputs": [],
   "source": [
    "clf = RandomForestClassifier()"
   ]
  },
  {
   "cell_type": "code",
   "execution_count": null,
   "id": "92abe656",
   "metadata": {},
   "outputs": [],
   "source": [
    "cross_val_score(clf,X,y,cv=6)"
   ]
  },
  {
   "cell_type": "code",
   "execution_count": null,
   "id": "92c68b77",
   "metadata": {},
   "outputs": [],
   "source": [
    "clf = AdaBoostClassifier()"
   ]
  },
  {
   "cell_type": "code",
   "execution_count": null,
   "id": "99c97ea4",
   "metadata": {},
   "outputs": [],
   "source": [
    "cross_val_score(clf,X,y,cv=5)"
   ]
  },
  {
   "cell_type": "code",
   "execution_count": null,
   "id": "4b562b67",
   "metadata": {},
   "outputs": [],
   "source": [
    "clf = BaggingClassifier()"
   ]
  },
  {
   "cell_type": "code",
   "execution_count": null,
   "id": "0254bde0",
   "metadata": {},
   "outputs": [],
   "source": []
  },
  {
   "cell_type": "code",
   "execution_count": null,
   "id": "ca0fe000",
   "metadata": {},
   "outputs": [],
   "source": [
    "clf = ExtraTreesClassifier()"
   ]
  },
  {
   "cell_type": "code",
   "execution_count": null,
   "id": "f30fb743",
   "metadata": {},
   "outputs": [],
   "source": [
    "cross_val_score(clf,X,y,cv=5)"
   ]
  },
  {
   "cell_type": "code",
   "execution_count": null,
   "id": "af879902",
   "metadata": {},
   "outputs": [],
   "source": [
    "from sklearn.neighbors import KNeighborsClassifier"
   ]
  },
  {
   "cell_type": "code",
   "execution_count": null,
   "id": "e717a470",
   "metadata": {},
   "outputs": [],
   "source": [
    "clf = KNeighborsClassifier()\n",
    "cross_val_score(clf,X,y,cv=5)"
   ]
  },
  {
   "cell_type": "code",
   "execution_count": null,
   "id": "b93a8be5",
   "metadata": {},
   "outputs": [],
   "source": [
    "from sklearn.naive_bayes import BernoulliNB,ComplementNB,GaussianNB,MultinomialNB"
   ]
  },
  {
   "cell_type": "code",
   "execution_count": null,
   "id": "73d8a885",
   "metadata": {},
   "outputs": [],
   "source": [
    "clf = BernoulliNB()\n",
    "cross_val_score(clf,X,y,cv=5)"
   ]
  },
  {
   "cell_type": "code",
   "execution_count": null,
   "id": "cfc57c5c",
   "metadata": {},
   "outputs": [],
   "source": [
    "clf = ComplementNB()\n",
    "cross_val_score(clf,X,y,cv=5)"
   ]
  },
  {
   "cell_type": "code",
   "execution_count": null,
   "id": "a339763d",
   "metadata": {},
   "outputs": [],
   "source": [
    "clf = GaussianNB()\n",
    "cross_val_score(clf,X,y,cv=5)"
   ]
  },
  {
   "cell_type": "code",
   "execution_count": null,
   "id": "73b7735e",
   "metadata": {},
   "outputs": [],
   "source": [
    "clf = MultinomialNB()\n",
    "cross_val_score(clf,X,y,cv=5)"
   ]
  },
  {
   "cell_type": "code",
   "execution_count": null,
   "id": "0812452e",
   "metadata": {},
   "outputs": [],
   "source": [
    "from lightgbm import LGBMClassifier\n",
    "import lazypredict\n",
    "from lazypredict.Supervised import LazyClassifier"
   ]
  },
  {
   "cell_type": "code",
   "execution_count": null,
   "id": "52031fe2",
   "metadata": {},
   "outputs": [],
   "source": [
    "clf = LGBMClassifier()\n",
    "cross_val_score(clf,X,y,cv=5)"
   ]
  },
  {
   "cell_type": "code",
   "execution_count": null,
   "id": "05ef999c",
   "metadata": {},
   "outputs": [],
   "source": [
    "#!pip install lightgbm\n",
    "#!pip install lazypredict"
   ]
  },
  {
   "cell_type": "code",
   "execution_count": 53,
   "id": "285e75d8",
   "metadata": {},
   "outputs": [
    {
     "data": {
      "text/plain": [
       "range(10, 20)"
      ]
     },
     "execution_count": 53,
     "metadata": {},
     "output_type": "execute_result"
    }
   ],
   "source": [
    "[i for i in b]"
   ]
  },
  {
   "cell_type": "code",
   "execution_count": 82,
   "id": "51fe8891",
   "metadata": {},
   "outputs": [
    {
     "data": {
      "text/plain": [
       "'hai'"
      ]
     },
     "execution_count": 82,
     "metadata": {},
     "output_type": "execute_result"
    }
   ],
   "source": [
    "\"{:0000001}\".format(\"hai\")"
   ]
  },
  {
   "cell_type": "code",
   "execution_count": 58,
   "id": "ed64e317",
   "metadata": {},
   "outputs": [
    {
     "data": {
      "text/plain": [
       "['0000',\n",
       " '0001',\n",
       " '0002',\n",
       " '0003',\n",
       " '0004',\n",
       " '0005',\n",
       " '0006',\n",
       " '0007',\n",
       " '0008',\n",
       " '0009',\n",
       " '0010',\n",
       " '0011',\n",
       " '0012',\n",
       " '0013',\n",
       " '0014',\n",
       " '0015',\n",
       " '0016',\n",
       " '0017',\n",
       " '0018',\n",
       " '0019',\n",
       " '0020',\n",
       " '0021',\n",
       " '0022',\n",
       " '0023',\n",
       " '0024',\n",
       " '0025',\n",
       " '0026',\n",
       " '0027',\n",
       " '0028',\n",
       " '0029',\n",
       " '0030',\n",
       " '0031',\n",
       " '0032',\n",
       " '0033',\n",
       " '0034',\n",
       " '0035',\n",
       " '0036',\n",
       " '0037',\n",
       " '0038',\n",
       " '0039',\n",
       " '0040',\n",
       " '0041',\n",
       " '0042',\n",
       " '0043',\n",
       " '0044',\n",
       " '0045',\n",
       " '0046',\n",
       " '0047',\n",
       " '0048',\n",
       " '0049',\n",
       " '0050',\n",
       " '0051',\n",
       " '0052',\n",
       " '0053',\n",
       " '0054',\n",
       " '0055',\n",
       " '0056',\n",
       " '0057',\n",
       " '0058',\n",
       " '0059',\n",
       " '0060',\n",
       " '0061',\n",
       " '0062',\n",
       " '0063',\n",
       " '0064',\n",
       " '0065',\n",
       " '0066',\n",
       " '0067',\n",
       " '0068',\n",
       " '0069',\n",
       " '0070',\n",
       " '0071',\n",
       " '0072',\n",
       " '0073',\n",
       " '0074',\n",
       " '0075',\n",
       " '0076',\n",
       " '0077',\n",
       " '0078',\n",
       " '0079',\n",
       " '0080',\n",
       " '0081',\n",
       " '0082',\n",
       " '0083',\n",
       " '0084',\n",
       " '0085',\n",
       " '0086',\n",
       " '0087',\n",
       " '0088',\n",
       " '0089',\n",
       " '0090',\n",
       " '0091',\n",
       " '0092',\n",
       " '0093',\n",
       " '0094',\n",
       " '0095',\n",
       " '0096',\n",
       " '0097',\n",
       " '0098',\n",
       " '0099',\n",
       " '0100',\n",
       " '0101',\n",
       " '0102',\n",
       " '0103',\n",
       " '0104',\n",
       " '0105',\n",
       " '0106',\n",
       " '0107',\n",
       " '0108',\n",
       " '0109',\n",
       " '0110',\n",
       " '0111',\n",
       " '0112',\n",
       " '0113',\n",
       " '0114',\n",
       " '0115',\n",
       " '0116',\n",
       " '0117',\n",
       " '0118',\n",
       " '0119',\n",
       " '0120',\n",
       " '0121',\n",
       " '0122',\n",
       " '0123',\n",
       " '0124',\n",
       " '0125',\n",
       " '0126',\n",
       " '0127',\n",
       " '0128',\n",
       " '0129',\n",
       " '0130',\n",
       " '0131',\n",
       " '0132',\n",
       " '0133',\n",
       " '0134',\n",
       " '0135',\n",
       " '0136',\n",
       " '0137',\n",
       " '0138',\n",
       " '0139',\n",
       " '0140',\n",
       " '0141',\n",
       " '0142',\n",
       " '0143',\n",
       " '0144',\n",
       " '0145',\n",
       " '0146',\n",
       " '0147',\n",
       " '0148',\n",
       " '0149',\n",
       " '0150',\n",
       " '0151',\n",
       " '0152',\n",
       " '0153',\n",
       " '0154',\n",
       " '0155',\n",
       " '0156',\n",
       " '0157',\n",
       " '0158',\n",
       " '0159',\n",
       " '0160',\n",
       " '0161',\n",
       " '0162',\n",
       " '0163',\n",
       " '0164',\n",
       " '0165',\n",
       " '0166',\n",
       " '0167',\n",
       " '0168',\n",
       " '0169',\n",
       " '0170',\n",
       " '0171',\n",
       " '0172',\n",
       " '0173',\n",
       " '0174',\n",
       " '0175',\n",
       " '0176',\n",
       " '0177',\n",
       " '0178',\n",
       " '0179',\n",
       " '0180',\n",
       " '0181',\n",
       " '0182',\n",
       " '0183',\n",
       " '0184',\n",
       " '0185',\n",
       " '0186',\n",
       " '0187',\n",
       " '0188',\n",
       " '0189',\n",
       " '0190',\n",
       " '0191',\n",
       " '0192',\n",
       " '0193',\n",
       " '0194',\n",
       " '0195',\n",
       " '0196',\n",
       " '0197',\n",
       " '0198',\n",
       " '0199',\n",
       " '0200',\n",
       " '0201',\n",
       " '0202',\n",
       " '0203',\n",
       " '0204',\n",
       " '0205',\n",
       " '0206',\n",
       " '0207',\n",
       " '0208',\n",
       " '0209',\n",
       " '0210',\n",
       " '0211',\n",
       " '0212',\n",
       " '0213',\n",
       " '0214',\n",
       " '0215',\n",
       " '0216',\n",
       " '0217',\n",
       " '0218',\n",
       " '0219',\n",
       " '0220',\n",
       " '0221',\n",
       " '0222',\n",
       " '0223',\n",
       " '0224',\n",
       " '0225',\n",
       " '0226',\n",
       " '0227',\n",
       " '0228',\n",
       " '0229',\n",
       " '0230',\n",
       " '0231',\n",
       " '0232',\n",
       " '0233',\n",
       " '0234',\n",
       " '0235',\n",
       " '0236',\n",
       " '0237',\n",
       " '0238',\n",
       " '0239',\n",
       " '0240',\n",
       " '0241',\n",
       " '0242',\n",
       " '0243',\n",
       " '0244',\n",
       " '0245',\n",
       " '0246',\n",
       " '0247',\n",
       " '0248',\n",
       " '0249',\n",
       " '0250',\n",
       " '0251',\n",
       " '0252',\n",
       " '0253',\n",
       " '0254',\n",
       " '0255',\n",
       " '0256',\n",
       " '0257',\n",
       " '0258',\n",
       " '0259',\n",
       " '0260',\n",
       " '0261',\n",
       " '0262',\n",
       " '0263',\n",
       " '0264',\n",
       " '0265',\n",
       " '0266',\n",
       " '0267',\n",
       " '0268',\n",
       " '0269',\n",
       " '0270',\n",
       " '0271',\n",
       " '0272',\n",
       " '0273',\n",
       " '0274',\n",
       " '0275',\n",
       " '0276',\n",
       " '0277',\n",
       " '0278',\n",
       " '0279',\n",
       " '0280',\n",
       " '0281',\n",
       " '0282',\n",
       " '0283',\n",
       " '0284',\n",
       " '0285',\n",
       " '0286',\n",
       " '0287',\n",
       " '0288',\n",
       " '0289',\n",
       " '0290',\n",
       " '0291',\n",
       " '0292',\n",
       " '0293',\n",
       " '0294',\n",
       " '0295',\n",
       " '0296',\n",
       " '0297',\n",
       " '0298',\n",
       " '0299',\n",
       " '0300',\n",
       " '0301',\n",
       " '0302',\n",
       " '0303',\n",
       " '0304',\n",
       " '0305',\n",
       " '0306',\n",
       " '0307',\n",
       " '0308',\n",
       " '0309',\n",
       " '0310',\n",
       " '0311',\n",
       " '0312',\n",
       " '0313',\n",
       " '0314',\n",
       " '0315',\n",
       " '0316',\n",
       " '0317',\n",
       " '0318',\n",
       " '0319',\n",
       " '0320',\n",
       " '0321',\n",
       " '0322',\n",
       " '0323',\n",
       " '0324',\n",
       " '0325',\n",
       " '0326',\n",
       " '0327',\n",
       " '0328',\n",
       " '0329',\n",
       " '0330',\n",
       " '0331',\n",
       " '0332',\n",
       " '0333',\n",
       " '0334',\n",
       " '0335',\n",
       " '0336',\n",
       " '0337',\n",
       " '0338',\n",
       " '0339',\n",
       " '0340',\n",
       " '0341',\n",
       " '0342',\n",
       " '0343',\n",
       " '0344',\n",
       " '0345',\n",
       " '0346',\n",
       " '0347',\n",
       " '0348',\n",
       " '0349',\n",
       " '0350',\n",
       " '0351',\n",
       " '0352',\n",
       " '0353',\n",
       " '0354',\n",
       " '0355',\n",
       " '0356',\n",
       " '0357',\n",
       " '0358',\n",
       " '0359',\n",
       " '0360',\n",
       " '0361',\n",
       " '0362',\n",
       " '0363',\n",
       " '0364',\n",
       " '0365',\n",
       " '0366',\n",
       " '0367',\n",
       " '0368',\n",
       " '0369',\n",
       " '0370',\n",
       " '0371',\n",
       " '0372',\n",
       " '0373',\n",
       " '0374',\n",
       " '0375',\n",
       " '0376',\n",
       " '0377',\n",
       " '0378',\n",
       " '0379',\n",
       " '0380',\n",
       " '0381',\n",
       " '0382',\n",
       " '0383',\n",
       " '0384',\n",
       " '0385',\n",
       " '0386',\n",
       " '0387',\n",
       " '0388',\n",
       " '0389',\n",
       " '0390',\n",
       " '0391',\n",
       " '0392',\n",
       " '0393',\n",
       " '0394',\n",
       " '0395',\n",
       " '0396',\n",
       " '0397',\n",
       " '0398',\n",
       " '0399',\n",
       " '0400',\n",
       " '0401',\n",
       " '0402',\n",
       " '0403',\n",
       " '0404',\n",
       " '0405',\n",
       " '0406',\n",
       " '0407',\n",
       " '0408',\n",
       " '0409',\n",
       " '0410',\n",
       " '0411',\n",
       " '0412',\n",
       " '0413',\n",
       " '0414',\n",
       " '0415',\n",
       " '0416',\n",
       " '0417',\n",
       " '0418',\n",
       " '0419',\n",
       " '0420',\n",
       " '0421',\n",
       " '0422',\n",
       " '0423',\n",
       " '0424',\n",
       " '0425',\n",
       " '0426',\n",
       " '0427',\n",
       " '0428',\n",
       " '0429',\n",
       " '0430',\n",
       " '0431',\n",
       " '0432',\n",
       " '0433',\n",
       " '0434',\n",
       " '0435',\n",
       " '0436',\n",
       " '0437',\n",
       " '0438',\n",
       " '0439',\n",
       " '0440',\n",
       " '0441',\n",
       " '0442',\n",
       " '0443',\n",
       " '0444',\n",
       " '0445',\n",
       " '0446',\n",
       " '0447',\n",
       " '0448',\n",
       " '0449',\n",
       " '0450',\n",
       " '0451',\n",
       " '0452',\n",
       " '0453',\n",
       " '0454',\n",
       " '0455',\n",
       " '0456',\n",
       " '0457',\n",
       " '0458',\n",
       " '0459',\n",
       " '0460',\n",
       " '0461',\n",
       " '0462',\n",
       " '0463',\n",
       " '0464',\n",
       " '0465',\n",
       " '0466',\n",
       " '0467',\n",
       " '0468',\n",
       " '0469',\n",
       " '0470',\n",
       " '0471',\n",
       " '0472',\n",
       " '0473',\n",
       " '0474',\n",
       " '0475',\n",
       " '0476',\n",
       " '0477',\n",
       " '0478',\n",
       " '0479',\n",
       " '0480',\n",
       " '0481',\n",
       " '0482',\n",
       " '0483',\n",
       " '0484',\n",
       " '0485',\n",
       " '0486',\n",
       " '0487',\n",
       " '0488',\n",
       " '0489',\n",
       " '0490',\n",
       " '0491',\n",
       " '0492',\n",
       " '0493',\n",
       " '0494',\n",
       " '0495',\n",
       " '0496',\n",
       " '0497',\n",
       " '0498',\n",
       " '0499',\n",
       " '0500',\n",
       " '0501',\n",
       " '0502',\n",
       " '0503',\n",
       " '0504',\n",
       " '0505',\n",
       " '0506',\n",
       " '0507',\n",
       " '0508',\n",
       " '0509',\n",
       " '0510',\n",
       " '0511',\n",
       " '0512',\n",
       " '0513',\n",
       " '0514',\n",
       " '0515',\n",
       " '0516',\n",
       " '0517',\n",
       " '0518',\n",
       " '0519',\n",
       " '0520',\n",
       " '0521',\n",
       " '0522',\n",
       " '0523',\n",
       " '0524',\n",
       " '0525',\n",
       " '0526',\n",
       " '0527',\n",
       " '0528',\n",
       " '0529',\n",
       " '0530',\n",
       " '0531',\n",
       " '0532',\n",
       " '0533',\n",
       " '0534',\n",
       " '0535',\n",
       " '0536',\n",
       " '0537',\n",
       " '0538',\n",
       " '0539',\n",
       " '0540',\n",
       " '0541',\n",
       " '0542',\n",
       " '0543',\n",
       " '0544',\n",
       " '0545',\n",
       " '0546',\n",
       " '0547',\n",
       " '0548',\n",
       " '0549',\n",
       " '0550',\n",
       " '0551',\n",
       " '0552',\n",
       " '0553',\n",
       " '0554',\n",
       " '0555',\n",
       " '0556',\n",
       " '0557',\n",
       " '0558',\n",
       " '0559',\n",
       " '0560',\n",
       " '0561',\n",
       " '0562',\n",
       " '0563',\n",
       " '0564',\n",
       " '0565',\n",
       " '0566',\n",
       " '0567',\n",
       " '0568',\n",
       " '0569',\n",
       " '0570',\n",
       " '0571',\n",
       " '0572',\n",
       " '0573',\n",
       " '0574',\n",
       " '0575',\n",
       " '0576',\n",
       " '0577',\n",
       " '0578',\n",
       " '0579',\n",
       " '0580',\n",
       " '0581',\n",
       " '0582',\n",
       " '0583',\n",
       " '0584',\n",
       " '0585',\n",
       " '0586',\n",
       " '0587',\n",
       " '0588',\n",
       " '0589',\n",
       " '0590',\n",
       " '0591',\n",
       " '0592',\n",
       " '0593',\n",
       " '0594',\n",
       " '0595',\n",
       " '0596',\n",
       " '0597',\n",
       " '0598',\n",
       " '0599',\n",
       " '0600',\n",
       " '0601',\n",
       " '0602',\n",
       " '0603',\n",
       " '0604',\n",
       " '0605',\n",
       " '0606',\n",
       " '0607',\n",
       " '0608',\n",
       " '0609',\n",
       " '0610',\n",
       " '0611',\n",
       " '0612',\n",
       " '0613',\n",
       " '0614',\n",
       " '0615',\n",
       " '0616',\n",
       " '0617',\n",
       " '0618',\n",
       " '0619',\n",
       " '0620',\n",
       " '0621',\n",
       " '0622',\n",
       " '0623',\n",
       " '0624',\n",
       " '0625',\n",
       " '0626',\n",
       " '0627',\n",
       " '0628',\n",
       " '0629',\n",
       " '0630',\n",
       " '0631',\n",
       " '0632',\n",
       " '0633',\n",
       " '0634',\n",
       " '0635',\n",
       " '0636',\n",
       " '0637',\n",
       " '0638',\n",
       " '0639',\n",
       " '0640',\n",
       " '0641',\n",
       " '0642',\n",
       " '0643',\n",
       " '0644',\n",
       " '0645',\n",
       " '0646',\n",
       " '0647',\n",
       " '0648',\n",
       " '0649',\n",
       " '0650',\n",
       " '0651',\n",
       " '0652',\n",
       " '0653',\n",
       " '0654',\n",
       " '0655',\n",
       " '0656',\n",
       " '0657',\n",
       " '0658',\n",
       " '0659',\n",
       " '0660',\n",
       " '0661',\n",
       " '0662',\n",
       " '0663',\n",
       " '0664',\n",
       " '0665',\n",
       " '0666',\n",
       " '0667',\n",
       " '0668',\n",
       " '0669',\n",
       " '0670',\n",
       " '0671',\n",
       " '0672',\n",
       " '0673',\n",
       " '0674',\n",
       " '0675',\n",
       " '0676',\n",
       " '0677',\n",
       " '0678',\n",
       " '0679',\n",
       " '0680',\n",
       " '0681',\n",
       " '0682',\n",
       " '0683',\n",
       " '0684',\n",
       " '0685',\n",
       " '0686',\n",
       " '0687',\n",
       " '0688',\n",
       " '0689',\n",
       " '0690',\n",
       " '0691',\n",
       " '0692',\n",
       " '0693',\n",
       " '0694',\n",
       " '0695',\n",
       " '0696',\n",
       " '0697',\n",
       " '0698',\n",
       " '0699',\n",
       " '0700',\n",
       " '0701',\n",
       " '0702',\n",
       " '0703',\n",
       " '0704',\n",
       " '0705',\n",
       " '0706',\n",
       " '0707',\n",
       " '0708',\n",
       " '0709',\n",
       " '0710',\n",
       " '0711',\n",
       " '0712',\n",
       " '0713',\n",
       " '0714',\n",
       " '0715',\n",
       " '0716',\n",
       " '0717',\n",
       " '0718',\n",
       " '0719',\n",
       " '0720',\n",
       " '0721',\n",
       " '0722',\n",
       " '0723',\n",
       " '0724',\n",
       " '0725',\n",
       " '0726',\n",
       " '0727',\n",
       " '0728',\n",
       " '0729',\n",
       " '0730',\n",
       " '0731',\n",
       " '0732',\n",
       " '0733',\n",
       " '0734',\n",
       " '0735',\n",
       " '0736',\n",
       " '0737',\n",
       " '0738',\n",
       " '0739',\n",
       " '0740',\n",
       " '0741',\n",
       " '0742',\n",
       " '0743',\n",
       " '0744',\n",
       " '0745',\n",
       " '0746',\n",
       " '0747',\n",
       " '0748',\n",
       " '0749',\n",
       " '0750',\n",
       " '0751',\n",
       " '0752',\n",
       " '0753',\n",
       " '0754',\n",
       " '0755',\n",
       " '0756',\n",
       " '0757',\n",
       " '0758',\n",
       " '0759',\n",
       " '0760',\n",
       " '0761',\n",
       " '0762',\n",
       " '0763',\n",
       " '0764',\n",
       " '0765',\n",
       " '0766',\n",
       " '0767',\n",
       " '0768',\n",
       " '0769',\n",
       " '0770',\n",
       " '0771',\n",
       " '0772',\n",
       " '0773',\n",
       " '0774',\n",
       " '0775',\n",
       " '0776',\n",
       " '0777',\n",
       " '0778',\n",
       " '0779',\n",
       " '0780',\n",
       " '0781',\n",
       " '0782',\n",
       " '0783',\n",
       " '0784',\n",
       " '0785',\n",
       " '0786',\n",
       " '0787',\n",
       " '0788',\n",
       " '0789',\n",
       " '0790',\n",
       " '0791',\n",
       " '0792',\n",
       " '0793',\n",
       " '0794',\n",
       " '0795',\n",
       " '0796',\n",
       " '0797',\n",
       " '0798',\n",
       " '0799',\n",
       " '0800',\n",
       " '0801',\n",
       " '0802',\n",
       " '0803',\n",
       " '0804',\n",
       " '0805',\n",
       " '0806',\n",
       " '0807',\n",
       " '0808',\n",
       " '0809',\n",
       " '0810',\n",
       " '0811',\n",
       " '0812',\n",
       " '0813',\n",
       " '0814',\n",
       " '0815',\n",
       " '0816',\n",
       " '0817',\n",
       " '0818',\n",
       " '0819',\n",
       " '0820',\n",
       " '0821',\n",
       " '0822',\n",
       " '0823',\n",
       " '0824',\n",
       " '0825',\n",
       " '0826',\n",
       " '0827',\n",
       " '0828',\n",
       " '0829',\n",
       " '0830',\n",
       " '0831',\n",
       " '0832',\n",
       " '0833',\n",
       " '0834',\n",
       " '0835',\n",
       " '0836',\n",
       " '0837',\n",
       " '0838',\n",
       " '0839',\n",
       " '0840',\n",
       " '0841',\n",
       " '0842',\n",
       " '0843',\n",
       " '0844',\n",
       " '0845',\n",
       " '0846',\n",
       " '0847',\n",
       " '0848',\n",
       " '0849',\n",
       " '0850',\n",
       " '0851',\n",
       " '0852',\n",
       " '0853',\n",
       " '0854',\n",
       " '0855',\n",
       " '0856',\n",
       " '0857',\n",
       " '0858',\n",
       " '0859',\n",
       " '0860',\n",
       " '0861',\n",
       " '0862',\n",
       " '0863',\n",
       " '0864',\n",
       " '0865',\n",
       " '0866',\n",
       " '0867',\n",
       " '0868',\n",
       " '0869',\n",
       " '0870',\n",
       " '0871',\n",
       " '0872',\n",
       " '0873',\n",
       " '0874',\n",
       " '0875',\n",
       " '0876',\n",
       " '0877',\n",
       " '0878',\n",
       " '0879',\n",
       " '0880',\n",
       " '0881',\n",
       " '0882',\n",
       " '0883',\n",
       " '0884',\n",
       " '0885',\n",
       " '0886',\n",
       " '0887',\n",
       " '0888',\n",
       " '0889',\n",
       " '0890',\n",
       " '0891',\n",
       " '0892',\n",
       " '0893',\n",
       " '0894',\n",
       " '0895',\n",
       " '0896',\n",
       " '0897',\n",
       " '0898',\n",
       " '0899',\n",
       " '0900',\n",
       " '0901',\n",
       " '0902',\n",
       " '0903',\n",
       " '0904',\n",
       " '0905',\n",
       " '0906',\n",
       " '0907',\n",
       " '0908',\n",
       " '0909',\n",
       " '0910',\n",
       " '0911',\n",
       " '0912',\n",
       " '0913',\n",
       " '0914',\n",
       " '0915',\n",
       " '0916',\n",
       " '0917',\n",
       " '0918',\n",
       " '0919',\n",
       " '0920',\n",
       " '0921',\n",
       " '0922',\n",
       " '0923',\n",
       " '0924',\n",
       " '0925',\n",
       " '0926',\n",
       " '0927',\n",
       " '0928',\n",
       " '0929',\n",
       " '0930',\n",
       " '0931',\n",
       " '0932',\n",
       " '0933',\n",
       " '0934',\n",
       " '0935',\n",
       " '0936',\n",
       " '0937',\n",
       " '0938',\n",
       " '0939',\n",
       " '0940',\n",
       " '0941',\n",
       " '0942',\n",
       " '0943',\n",
       " '0944',\n",
       " '0945',\n",
       " '0946',\n",
       " '0947',\n",
       " '0948',\n",
       " '0949',\n",
       " '0950',\n",
       " '0951',\n",
       " '0952',\n",
       " '0953',\n",
       " '0954',\n",
       " '0955',\n",
       " '0956',\n",
       " '0957',\n",
       " '0958',\n",
       " '0959',\n",
       " '0960',\n",
       " '0961',\n",
       " '0962',\n",
       " '0963',\n",
       " '0964',\n",
       " '0965',\n",
       " '0966',\n",
       " '0967',\n",
       " '0968',\n",
       " '0969',\n",
       " '0970',\n",
       " '0971',\n",
       " '0972',\n",
       " '0973',\n",
       " '0974',\n",
       " '0975',\n",
       " '0976',\n",
       " '0977',\n",
       " '0978',\n",
       " '0979',\n",
       " '0980',\n",
       " '0981',\n",
       " '0982',\n",
       " '0983',\n",
       " '0984',\n",
       " '0985',\n",
       " '0986',\n",
       " '0987',\n",
       " '0988',\n",
       " '0989',\n",
       " '0990',\n",
       " '0991',\n",
       " '0992',\n",
       " '0993',\n",
       " '0994',\n",
       " '0995',\n",
       " '0996',\n",
       " '0997',\n",
       " '0998',\n",
       " '0999',\n",
       " ...]"
      ]
     },
     "execution_count": 58,
     "metadata": {},
     "output_type": "execute_result"
    }
   ],
   "source": [
    "['{:04d}'.format(num) for num in range(1001)]"
   ]
  }
 ],
 "metadata": {
  "kernelspec": {
   "display_name": "Python 3 (ipykernel)",
   "language": "python",
   "name": "python3"
  },
  "language_info": {
   "codemirror_mode": {
    "name": "ipython",
    "version": 3
   },
   "file_extension": ".py",
   "mimetype": "text/x-python",
   "name": "python",
   "nbconvert_exporter": "python",
   "pygments_lexer": "ipython3",
   "version": "3.11.4"
  }
 },
 "nbformat": 4,
 "nbformat_minor": 5
}
